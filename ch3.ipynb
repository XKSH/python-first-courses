{
 "cells": [
  {
   "cell_type": "code",
   "execution_count": 1,
   "metadata": {
    "collapsed": true
   },
   "outputs": [],
   "source": [
    "class Personne: # Définition de notre classe Personne\n",
    "    \"\"\"Classe définissant une personne caractérisée par :\n",
    "    - son nom\n",
    "    - son prénom\n",
    "    - son âge\n",
    "    - son lieu de résidence\"\"\"\n",
    "\n",
    "    \n",
    "    def __init__(self): # Notre méthode constructeur\n",
    "        \"\"\"Pour l'instant, on ne va définir qu'un seul attribut\"\"\"\n",
    "        self.nom = \"Dupont\""
   ]
  },
  {
   "cell_type": "raw",
   "metadata": {},
   "source": [
    "D'abord, la définition de la classe. Elle est constituée du mot-cléclass, du nom de la classe et des deux points rituels « : ».\n",
    "Unedocstringcommentant la classe. Encore une fois, c'est une excellente habitude à prendre et je vous encourage à le faire systématiquement. Ce pourra être plus qu'utile quand vous vous lancerez dans de grands projets, notamment à plusieurs.\n",
    "La définition de notre constructeur. Comme vous le voyez, il s'agit d'une définition presque « classique » d'une fonction. Elle a pour nom__init__, c'est invariable : en Python, tous les constructeurs s'appellent ainsi. Nous verrons plus tard que les noms de méthodes entourés de part et d'autre de deux signes soulignés(__nommethode__)sont des méthodes spéciales. Notez que, dans notre définition de méthode, nous passons un premier paramètre nomméself.\n",
    "Une nouvelledocstring. Je ne complique pas inutilement, je précise donc qu'on va simplement définir un seul attribut pour l'instant dans notre constructeur.\n",
    "Dans notre constructeur, nous trouvons l'instanciation de notre attributnom. On crée une variableself.nomet on lui donne comme valeurDupont. Je vais détailler un peu plus bas ce qui se passe ici."
   ]
  },
  {
   "cell_type": "code",
   "execution_count": 2,
   "metadata": {},
   "outputs": [
    {
     "data": {
      "text/plain": [
       "<__main__.Personne at 0x44131b5438>"
      ]
     },
     "execution_count": 2,
     "metadata": {},
     "output_type": "execute_result"
    }
   ],
   "source": [
    "bernard = Personne()\n",
    "bernard"
   ]
  },
  {
   "cell_type": "code",
   "execution_count": 3,
   "metadata": {},
   "outputs": [
    {
     "data": {
      "text/plain": [
       "'Dupont'"
      ]
     },
     "execution_count": 3,
     "metadata": {},
     "output_type": "execute_result"
    }
   ],
   "source": [
    "bernard.nom"
   ]
  },
  {
   "cell_type": "code",
   "execution_count": 4,
   "metadata": {
    "collapsed": true
   },
   "outputs": [],
   "source": [
    "class Personne:\n",
    "    \"\"\"Classe définissant une personne caractérisée par :\n",
    "    - son nom\n",
    "    - son prénom\n",
    "    - son âge\n",
    "    - son lieu de résidence\"\"\"\n",
    "\n",
    "    \n",
    "    def __init__(self): # Notre méthode constructeur\n",
    "        \"\"\"Constructeur de notre classe. Chaque attribut va être instancié\n",
    "        avec une valeur par défaut... original\"\"\"\n",
    "\n",
    "        \n",
    "        self.nom = \"Dupont\"\n",
    "        self.prenom = \"Jean\" # Quelle originalité\n",
    "        self.age = 33 # Cela n'engage à rien\n",
    "        self.lieu_residence = \"Paris\""
   ]
  },
  {
   "cell_type": "code",
   "execution_count": 6,
   "metadata": {},
   "outputs": [
    {
     "data": {
      "text/plain": [
       "'Dupont'"
      ]
     },
     "execution_count": 6,
     "metadata": {},
     "output_type": "execute_result"
    }
   ],
   "source": [
    "jean=Personne()\n",
    "jean.nom"
   ]
  },
  {
   "cell_type": "code",
   "execution_count": 8,
   "metadata": {},
   "outputs": [
    {
     "data": {
      "text/plain": [
       "32"
      ]
     },
     "execution_count": 8,
     "metadata": {},
     "output_type": "execute_result"
    }
   ],
   "source": [
    "jean.age=32\n",
    "jean.age"
   ]
  },
  {
   "cell_type": "code",
   "execution_count": 13,
   "metadata": {
    "collapsed": true
   },
   "outputs": [],
   "source": [
    "class Personne:\n",
    "    \"\"\"Classe définissant une personne caractérisée par :\n",
    "    - son nom\n",
    "    - son prénom\n",
    "    - son âge\n",
    "    - son lieu de résidence\"\"\"\n",
    "\n",
    "    \n",
    "    def __init__(self, nom, prenom):\n",
    "        \"\"\"Constructeur de notre classe\"\"\"\n",
    "        self.nom = nom\n",
    "        self.prenom = prenom\n",
    "        self.age = 33\n",
    "        self.lieu_residence = \"Paris\""
   ]
  },
  {
   "cell_type": "code",
   "execution_count": 14,
   "metadata": {},
   "outputs": [
    {
     "data": {
      "text/plain": [
       "'Micado'"
      ]
     },
     "execution_count": 14,
     "metadata": {},
     "output_type": "execute_result"
    }
   ],
   "source": [
    ">>> bernard = Personne(\"Micado\", \"Bernard\")\n",
    ">>> bernard.nom"
   ]
  },
  {
   "cell_type": "raw",
   "metadata": {},
   "source": [
    "N'oubliez pas que le premier paramètre doit êtreself. En dehors de cela, un constructeur est une fonction plutôt classique : vous pouvez définir des paramètres, par défaut ou non, nommés ou non. Quand vous voudrez créer votre objet, vous appellerez le nom de la classe en passant entre parenthèses les paramètres à utiliser. Faites quelques tests, avec plus ou moins de paramètres, je pense que vous saisirez très rapidement le principe."
   ]
  },
  {
   "cell_type": "code",
   "execution_count": 15,
   "metadata": {
    "collapsed": true
   },
   "outputs": [],
   "source": [
    "class Compteur:\n",
    "    \"\"\"Cette classe possède un attribut de classe qui s'incrémente à chaque\n",
    "    fois que l'on crée un objet de ce type\"\"\"\n",
    "\n",
    "    \n",
    "    objets_crees = 0 # Le compteur vaut 0 au départ\n",
    "    def __init__(self):\n",
    "        \"\"\"À chaque fois qu'on crée un objet, on incrémente le compteur\"\"\"\n",
    "        Compteur.objets_crees += 1"
   ]
  },
  {
   "cell_type": "raw",
   "metadata": {},
   "source": [
    "On définit notre attribut de classe directement dans le corps de la classe, sous la définition et ladocstring, avant la définition du constructeur. Quand on veut l'appeler dans le constructeur, on préfixe le nom de l'attribut de classe par le nom de la classe. Et on y accède de cette façon également, en dehors de la classe."
   ]
  },
  {
   "cell_type": "code",
   "execution_count": 16,
   "metadata": {},
   "outputs": [
    {
     "data": {
      "text/plain": [
       "0"
      ]
     },
     "execution_count": 16,
     "metadata": {},
     "output_type": "execute_result"
    }
   ],
   "source": [
    ">>> Compteur.objets_crees"
   ]
  },
  {
   "cell_type": "code",
   "execution_count": 17,
   "metadata": {
    "collapsed": true
   },
   "outputs": [],
   "source": [
    ">>> a = Compteur() # On crée un premier objet"
   ]
  },
  {
   "cell_type": "code",
   "execution_count": 18,
   "metadata": {},
   "outputs": [
    {
     "data": {
      "text/plain": [
       "1"
      ]
     },
     "execution_count": 18,
     "metadata": {},
     "output_type": "execute_result"
    }
   ],
   "source": [
    ">>> Compteur.objets_crees"
   ]
  },
  {
   "cell_type": "code",
   "execution_count": 19,
   "metadata": {},
   "outputs": [
    {
     "data": {
      "text/plain": [
       "1"
      ]
     },
     "execution_count": 19,
     "metadata": {},
     "output_type": "execute_result"
    }
   ],
   "source": [
    "a.objets_crees"
   ]
  },
  {
   "cell_type": "code",
   "execution_count": 20,
   "metadata": {
    "collapsed": true
   },
   "outputs": [],
   "source": [
    ">>> b = Compteur()"
   ]
  },
  {
   "cell_type": "code",
   "execution_count": 21,
   "metadata": {},
   "outputs": [
    {
     "data": {
      "text/plain": [
       "2"
      ]
     },
     "execution_count": 21,
     "metadata": {},
     "output_type": "execute_result"
    }
   ],
   "source": [
    "a.objets_crees"
   ]
  },
  {
   "cell_type": "code",
   "execution_count": 22,
   "metadata": {},
   "outputs": [
    {
     "data": {
      "text/plain": [
       "2"
      ]
     },
     "execution_count": 22,
     "metadata": {},
     "output_type": "execute_result"
    }
   ],
   "source": [
    "Compteur.objets_crees"
   ]
  },
  {
   "cell_type": "raw",
   "metadata": {},
   "source": [
    "À chaque fois qu'on crée un objet de typeCompteur, l'attribut de classeobjets_creess'incrémente de 1. Cela peut être utile d'avoir des attributs de classe, quand tous nos objets doivent avoir certaines données identiques. Nous aurons l'occasion d'en reparler par la suite."
   ]
  },
  {
   "cell_type": "code",
   "execution_count": 23,
   "metadata": {
    "collapsed": true
   },
   "outputs": [],
   "source": [
    "class Compteur:\n",
    "    \"\"\"Cette classe possède un attribut de classe qui s'incrémente à chaque\n",
    "    fois que l'on crée un objet de ce type\"\"\"\n",
    "\n",
    "    \n",
    "    objets_crees = 0 # Le compteur vaut 0 au départ\n",
    "    def __init__(self):\n",
    "        \"\"\"À chaque fois qu'on crée un objet, on incrémente le compteur\"\"\"\n",
    "        self.objets_crees += 1"
   ]
  },
  {
   "cell_type": "code",
   "execution_count": 24,
   "metadata": {
    "collapsed": true
   },
   "outputs": [],
   "source": [
    "a = Compteur()"
   ]
  },
  {
   "cell_type": "code",
   "execution_count": 25,
   "metadata": {
    "collapsed": true
   },
   "outputs": [],
   "source": [
    "b= Compteur()"
   ]
  },
  {
   "cell_type": "code",
   "execution_count": 26,
   "metadata": {},
   "outputs": [
    {
     "data": {
      "text/plain": [
       "1"
      ]
     },
     "execution_count": 26,
     "metadata": {},
     "output_type": "execute_result"
    }
   ],
   "source": [
    "b.objets_crees"
   ]
  },
  {
   "cell_type": "raw",
   "metadata": {},
   "source": [
    "use self will only infect the instance,but compteur will change all instances"
   ]
  },
  {
   "cell_type": "code",
   "execution_count": 27,
   "metadata": {
    "collapsed": true
   },
   "outputs": [],
   "source": [
    "class TableauNoir:\n",
    "    \"\"\"Classe définissant une surface sur laquelle on peut écrire,\n",
    "    que l'on peut lire et effacer, par jeu de méthodes. L'attribut modifié\n",
    "    est 'surface'\"\"\"\n",
    "\n",
    "    \n",
    "    def __init__(self):\n",
    "        \"\"\"Par défaut, notre surface est vide\"\"\"\n",
    "        self.surface = \"\"\n",
    "    def ecrire(self, message_a_ecrire):\n",
    "        \"\"\"Méthode permettant d'écrire sur la surface du tableau.\n",
    "        Si la surface n'est pas vide, on saute une ligne avant de rajouter\n",
    "        le message à écrire\"\"\"\n",
    "        \n",
    "        if self.surface != \"\":\n",
    "            self.surface += \"\\n\"\n",
    "        self.surface += message_a_ecrire"
   ]
  },
  {
   "cell_type": "code",
   "execution_count": 28,
   "metadata": {
    "collapsed": true
   },
   "outputs": [],
   "source": [
    "tab = TableauNoir()"
   ]
  },
  {
   "cell_type": "code",
   "execution_count": 29,
   "metadata": {},
   "outputs": [
    {
     "data": {
      "text/plain": [
       "''"
      ]
     },
     "execution_count": 29,
     "metadata": {},
     "output_type": "execute_result"
    }
   ],
   "source": [
    ">>> tab.surface"
   ]
  },
  {
   "cell_type": "code",
   "execution_count": 30,
   "metadata": {},
   "outputs": [
    {
     "data": {
      "text/plain": [
       "'Coooool ! Ce sont les vacances !'"
      ]
     },
     "execution_count": 30,
     "metadata": {},
     "output_type": "execute_result"
    }
   ],
   "source": [
    ">>> tab.ecrire(\"Coooool ! Ce sont les vacances !\")\n",
    ">>> tab.surface"
   ]
  },
  {
   "cell_type": "code",
   "execution_count": 31,
   "metadata": {
    "collapsed": true
   },
   "outputs": [],
   "source": [
    "tab.ecrire(\"Joyeux Noël !\")"
   ]
  },
  {
   "cell_type": "code",
   "execution_count": 33,
   "metadata": {},
   "outputs": [
    {
     "name": "stdout",
     "output_type": "stream",
     "text": [
      "Coooool ! Ce sont les vacances !\n",
      "Joyeux Noël !\n"
     ]
    }
   ],
   "source": [
    "print(tab.surface)"
   ]
  },
  {
   "cell_type": "raw",
   "metadata": {},
   "source": [
    "Pour résumer, quand vous devez travailler dans une méthode de l'objet sur l'objet lui-même, vous allez passer parself.\n",
    "\n",
    "Le nomselfest une très forte convention de nommage. Je vous déconseille de changer ce nom. Certains programmeurs, qui trouvent qu'écrireselfà chaque fois est excessivement long, l'abrègent en une unique lettres. Évitez ce raccourci. De manière générale, évitez de changer le nom. Une méthode d'instance travaille avec le paramètreself."
   ]
  },
  {
   "cell_type": "code",
   "execution_count": 34,
   "metadata": {
    "collapsed": true
   },
   "outputs": [],
   "source": [
    "class TableauNoir:\n",
    "    \"\"\"Classe définissant une surface sur laquelle on peut écrire,\n",
    "    que l'on peut lire et effacer, par jeu de méthodes. L'attribut modifié\n",
    "    est 'surface'\"\"\"\n",
    "\n",
    "    \n",
    "    def __init__(self):\n",
    "        \"\"\"Par défaut, notre surface est vide\"\"\"\n",
    "        self.surface = \"\"\n",
    "    def ecrire(self, message_a_ecrire):\n",
    "        \"\"\"Méthode permettant d'écrire sur la surface du tableau.\n",
    "        Si la surface n'est pas vide, on saute une ligne avant de rajouter\n",
    "        le message à écrire\"\"\"\n",
    "\n",
    "        \n",
    "        if self.surface != \"\":\n",
    "            self.surface += \"\\n\"\n",
    "        self.surface += message_a_ecrire\n",
    "    def lire(self):\n",
    "        \"\"\"Cette méthode se charge d'afficher, grâce à print,\n",
    "        la surface du tableau\"\"\"\n",
    "\n",
    "        \n",
    "        print(self.surface)\n",
    "    def effacer(self):\n",
    "        \"\"\"Cette méthode permet d'effacer la surface du tableau\"\"\"\n",
    "        self.surface = \"\""
   ]
  },
  {
   "cell_type": "code",
   "execution_count": 35,
   "metadata": {},
   "outputs": [
    {
     "name": "stdout",
     "output_type": "stream",
     "text": [
      "\n",
      "Salut tout le monde.\n",
      "La forme ?\n"
     ]
    }
   ],
   "source": [
    ">>> tab = TableauNoir()\n",
    ">>> tab.lire()\n",
    ">>> tab.ecrire(\"Salut tout le monde.\")\n",
    ">>> tab.ecrire(\"La forme ?\")\n",
    ">>> tab.lire()"
   ]
  },
  {
   "cell_type": "code",
   "execution_count": 36,
   "metadata": {},
   "outputs": [
    {
     "name": "stdout",
     "output_type": "stream",
     "text": [
      "\n"
     ]
    }
   ],
   "source": [
    ">>> tab.effacer()\n",
    ">>> tab.lire()"
   ]
  },
  {
   "cell_type": "code",
   "execution_count": 40,
   "metadata": {
    "collapsed": true
   },
   "outputs": [],
   "source": [
    "class Compteur:\n",
    "    \"\"\"Cette classe possède un attribut de classe qui s'incrémente à chaque\n",
    "    fois que l'on crée un objet de ce type\"\"\"\n",
    "\n",
    "    \n",
    "    objets_crees = 0 # Le compteur vaut 0 au départ\n",
    "    def __init__(self):\n",
    "        \"\"\"À chaque fois qu'on crée un objet, on incrémente le compteur\"\"\"\n",
    "        Compteur.objets_crees += 1\n",
    "    def combien(cls):\n",
    "        \"\"\"Méthode de classe affichant combien d'objets ont été créés\"\"\"\n",
    "        print(\"Jusqu'à présent, {} objets ont été créés.\".format(\n",
    "                cls.objets_crees))\n",
    "    combien = classmethod(combien)#"
   ]
  },
  {
   "cell_type": "code",
   "execution_count": 41,
   "metadata": {},
   "outputs": [
    {
     "name": "stdout",
     "output_type": "stream",
     "text": [
      "Jusqu'à présent, 0 objets ont été créés.\n",
      "Jusqu'à présent, 1 objets ont été créés.\n"
     ]
    }
   ],
   "source": [
    ">>> Compteur.combien()\n",
    ">>> a = Compteur()\n",
    ">>> Compteur.combien()"
   ]
  },
  {
   "cell_type": "code",
   "execution_count": 42,
   "metadata": {},
   "outputs": [
    {
     "name": "stdout",
     "output_type": "stream",
     "text": [
      "Jusqu'à présent, 1 objets ont été créés.\n"
     ]
    }
   ],
   "source": [
    "a.combien()"
   ]
  },
  {
   "cell_type": "code",
   "execution_count": 43,
   "metadata": {},
   "outputs": [
    {
     "name": "stdout",
     "output_type": "stream",
     "text": [
      "Jusqu'à présent, 2 objets ont été créés.\n"
     ]
    }
   ],
   "source": [
    ">>> b = Compteur()\n",
    ">>> Compteur.combien()"
   ]
  },
  {
   "cell_type": "code",
   "execution_count": 44,
   "metadata": {},
   "outputs": [
    {
     "name": "stdout",
     "output_type": "stream",
     "text": [
      "Jusqu'à présent, 2 objets ont été créés.\n"
     ]
    }
   ],
   "source": [
    "a.combien()"
   ]
  },
  {
   "cell_type": "raw",
   "metadata": {},
   "source": [
    "Une méthode de classe prend en premier paramètre non passelfmaiscls. Ce paramètre contient la classe (iciCompteur).\n",
    "\n",
    "Notez que vous pouvez appeler la méthode de classe depuis un objet instancié sur la classe. Vous auriez par exemple pu écrirea.combien().\n",
    "\n",
    "Enfin, pour que Python reconnaisse une méthode de classe, il faut appeler la fonctionclassmethodqui prend en paramètre la méthode que l'on veut convertir et renvoie la méthode convertie."
   ]
  },
  {
   "cell_type": "raw",
   "metadata": {},
   "source": [
    "Méthodes de classe et méthodes statiques"
   ]
  },
  {
   "cell_type": "code",
   "execution_count": 49,
   "metadata": {
    "collapsed": true
   },
   "outputs": [],
   "source": [
    "class Test:\n",
    "    \"\"\"Une classe de test tout simplement\"\"\"\n",
    "    def afficher(a):\n",
    "        \"\"\"Fonction chargée d'afficher quelque chose\"\"\"\n",
    "        print(\"On affiche la même chose.\",a)\n",
    "        print(\"peu importe les données de l'objet ou de la classe.\")\n",
    "    afficher = staticmethod(afficher)"
   ]
  },
  {
   "cell_type": "raw",
   "metadata": {},
   "source": [
    "Rappel : les noms de méthodes encadrés par deux soulignés de part et d'autre sont des méthodes spéciales. Ne nommez pas vos méthodes ainsi. Nous découvrirons plus tard ces méthodes particulières. Exemple de nom de méthode à éviter :__mamethode__."
   ]
  },
  {
   "cell_type": "raw",
   "metadata": {},
   "source": [
    "On peut également définir des méthodes statiques. Elles sont assez proches des méthodes de classe sauf qu'elles ne prennent aucun premier paramètre, niselfnicls. Elles travaillent donc indépendamment de toute donnée, aussi bien contenue dans l'instance de l'objet que dans la classe."
   ]
  },
  {
   "cell_type": "code",
   "execution_count": 46,
   "metadata": {
    "collapsed": true
   },
   "outputs": [],
   "source": [
    "t=Test()"
   ]
  },
  {
   "cell_type": "code",
   "execution_count": 50,
   "metadata": {},
   "outputs": [
    {
     "name": "stdout",
     "output_type": "stream",
     "text": [
      "On affiche la même chose. hoho\n",
      "peu importe les données de l'objet ou de la classe.\n"
     ]
    }
   ],
   "source": [
    "Test.afficher(\"hoho\")"
   ]
  },
  {
   "cell_type": "code",
   "execution_count": 51,
   "metadata": {},
   "outputs": [
    {
     "name": "stdout",
     "output_type": "stream",
     "text": [
      "On affiche la même chose.\n",
      "peu importe les données de l'objet ou de la classe.\n"
     ]
    }
   ],
   "source": [
    "t.afficher()"
   ]
  },
  {
   "cell_type": "code",
   "execution_count": 52,
   "metadata": {},
   "outputs": [
    {
     "data": {
      "text/plain": [
       "['__class__',\n",
       " '__delattr__',\n",
       " '__dict__',\n",
       " '__dir__',\n",
       " '__doc__',\n",
       " '__eq__',\n",
       " '__format__',\n",
       " '__ge__',\n",
       " '__getattribute__',\n",
       " '__gt__',\n",
       " '__hash__',\n",
       " '__init__',\n",
       " '__init_subclass__',\n",
       " '__le__',\n",
       " '__lt__',\n",
       " '__module__',\n",
       " '__ne__',\n",
       " '__new__',\n",
       " '__reduce__',\n",
       " '__reduce_ex__',\n",
       " '__repr__',\n",
       " '__setattr__',\n",
       " '__sizeof__',\n",
       " '__str__',\n",
       " '__subclasshook__',\n",
       " '__weakref__',\n",
       " 'afficher']"
      ]
     },
     "execution_count": 52,
     "metadata": {},
     "output_type": "execute_result"
    }
   ],
   "source": [
    "dir(t)"
   ]
  },
  {
   "cell_type": "raw",
   "metadata": {},
   "source": [
    "L'attribut spécial__dict__\n",
    "\n",
    "Par défaut, quand vous développez une classe, tous les objets construits depuis cette classe posséderont un attribut spécial__dict__. Cet attribut est un dictionnaire qui contient en guise de clés les noms des attributs et, en tant que valeurs, les valeurs des attributs."
   ]
  },
  {
   "cell_type": "code",
   "execution_count": 57,
   "metadata": {
    "collapsed": true
   },
   "outputs": [],
   "source": [
    "class Test:\n",
    "    \"\"\"Une classe de test tout simplement\"\"\"\n",
    "    def __init__(self):\n",
    "        \"\"\"On définit dans le constructeur un unique attribut\"\"\"\n",
    "        self.mon_attribut = \"ok\"\n",
    "    \n",
    "    def afficher_attribut(self):\n",
    "        \"\"\"Méthode affichant l'attribut 'mon_attribut'\"\"\"\n",
    "        print(\"Mon attribut est {0}.\".format(self.mon_attribut))"
   ]
  },
  {
   "cell_type": "code",
   "execution_count": 59,
   "metadata": {
    "collapsed": true
   },
   "outputs": [],
   "source": [
    "t=Test()"
   ]
  },
  {
   "cell_type": "code",
   "execution_count": 60,
   "metadata": {},
   "outputs": [
    {
     "data": {
      "text/plain": [
       "{'mon_attribut': 'ok'}"
      ]
     },
     "execution_count": 60,
     "metadata": {},
     "output_type": "execute_result"
    }
   ],
   "source": [
    "t.__dict__"
   ]
  },
  {
   "cell_type": "code",
   "execution_count": 62,
   "metadata": {
    "collapsed": true
   },
   "outputs": [],
   "source": [
    "t.__dict__[\"mon_attribut\"] = \"plus ok\""
   ]
  },
  {
   "cell_type": "code",
   "execution_count": 63,
   "metadata": {},
   "outputs": [
    {
     "name": "stdout",
     "output_type": "stream",
     "text": [
      "Mon attribut est plus ok.\n"
     ]
    }
   ],
   "source": [
    "t.afficher_attribut()"
   ]
  },
  {
   "cell_type": "code",
   "execution_count": 122,
   "metadata": {
    "collapsed": true
   },
   "outputs": [],
   "source": [
    "class Personne:\n",
    "    \"\"\"Classe définissant une personne caractérisée par :\n",
    "    - son nom ;\n",
    "    - son prénom ;\n",
    "    - son âge ;\n",
    "    - son lieu de résidence\"\"\"\n",
    "\n",
    "    \n",
    "    def __init__(self, nom, prenom):\n",
    "        \"\"\"Constructeur de notre classe\"\"\"\n",
    "        self.nom = nom\n",
    "        self.prenom = prenom\n",
    "        self.age = 33\n",
    "        self.__lieu_residence = \"Paris\" # Notez le souligné _ devant le nom;un _sera a rien, mais deux __va sert de 'private'\n",
    "    def __get_lieu_residence(self):\n",
    "        \"\"\"Méthode qui sera appelée quand on souhaitera accéder en lecture \n",
    "        à l'attribut 'lieu_residence'\"\"\"\n",
    "        \n",
    "        \n",
    "        print(\"On accède à l'attribut lieu_residence !\")\n",
    "        return self.__lieu_residence\n",
    "    def __set_lieu_residence(self, nouvelle_residence):\n",
    "        \"\"\"Méthode appelée quand on souhaite modifier le lieu de résidence\"\"\"\n",
    "        \n",
    "        print(\"Attention, il semble que {} déménage à {}.\".format( \\\n",
    "                self.prenom, nouvelle_residence))\n",
    "        self.__lieu_residence = nouvelle_residence\n",
    "    # On va dire à Python que notre attribut lieu_residence pointe vers une\n",
    "    # propriété\n",
    "    lieu_residence = property(__get_lieu_residence,__set_lieu_residence)"
   ]
  },
  {
   "cell_type": "raw",
   "metadata": {},
   "source": [
    "Tout d'abord, dans le constructeur, on ne crée pas un attributself.lieu_residencemaisself._lieu_residence. Il n'y a qu'un petit caractère de différence, le signe souligné _ placé en tête du nom de l'attribut. Et pourtant, ce signe change beaucoup de choses. La convention veut qu'on n'accède pas, depuis l'extérieur de la classe, à un attribut commençant par un souligné _. C'est une convention, rien ne vous l'interdit… sauf, encore une fois, le bon sens.\n",
    "On définit une première méthode, commençant elle aussi par un souligné _, nommée_get_lieu_residence. C'est la même règle que pour les attributs : on n'accède pas, depuis l'extérieur de la classe, à une méthode commençant par un souligné _. Si vous avez compris ma petite explication sur les accesseurs et mutateurs, vous devriez comprendre rapidement à quoi sert cette méthode : elle se contente de renvoyer le lieu de résidence. Là encore, l'attribut manipulé n'est paslieu_residencemais_lieu_residence. Comme on est dans la classe, on a le droit de le manipuler.\n",
    "La seconde méthode a la forme d'un mutateur. Elle se nomme_set_lieu_residenceet doit donc aussi être inaccessible depuis l'extérieur de la classe. À la différence de l'accesseur, elle prend un paramètre : le nouveau lieu de résidence. En effet, c'est une méthode qui doit être appelée quand on cherche à modifier le lieu de résidence, il lui faut donc le nouveau lieu de résidence qu'on souhaite voir affecté à l'objet.\n",
    "Enfin, la dernière ligne de la classe est très intéressante. Il s'agit de la définition d'une propriété. On lui dit que l'attributlieu_residence(cette fois, sans signe souligné _) doit être une propriété. On définit dans notre propriété, dans l'ordre, la méthode d'accès (l'accesseur) et celle de modification (le mutateur).\n",
    "Quand on veut accéder àobjet.lieu_residence, Python tombe sur une propriété redirigeant vers la méthode_get_lieu_residence. Quand on souhaite modifier la valeur de l'attribut, en écrivantobjet.lieu_residence = valeur, Python appelle la méthode_set_lieu_residenceen lui passant en paramètre la nouvelle valeur."
   ]
  },
  {
   "cell_type": "code",
   "execution_count": 123,
   "metadata": {
    "collapsed": true
   },
   "outputs": [],
   "source": [
    ">>> jean = Personne(\"Micado\", \"Jean\")"
   ]
  },
  {
   "cell_type": "code",
   "execution_count": 125,
   "metadata": {},
   "outputs": [
    {
     "name": "stdout",
     "output_type": "stream",
     "text": [
      "On accède à l'attribut lieu_residence !\n"
     ]
    }
   ],
   "source": [
    "jean.lieu_residence"
   ]
  },
  {
   "cell_type": "code",
   "execution_count": 92,
   "metadata": {},
   "outputs": [
    {
     "ename": "AttributeError",
     "evalue": "'Personne' object has no attribute '__lieu_residence'",
     "output_type": "error",
     "traceback": [
      "\u001b[0;31m---------------------------------------------------------------------------\u001b[0m",
      "\u001b[0;31mAttributeError\u001b[0m                            Traceback (most recent call last)",
      "\u001b[0;32m<ipython-input-92-9578ad2e1200>\u001b[0m in \u001b[0;36m<module>\u001b[0;34m()\u001b[0m\n\u001b[0;32m----> 1\u001b[0;31m \u001b[0mjean\u001b[0m\u001b[1;33m.\u001b[0m\u001b[0m__lieu_residence\u001b[0m\u001b[1;33m\u001b[0m\u001b[0m\n\u001b[0m",
      "\u001b[0;31mAttributeError\u001b[0m: 'Personne' object has no attribute '__lieu_residence'"
     ]
    }
   ],
   "source": [
    "jean.__lieu_residence"
   ]
  },
  {
   "cell_type": "code",
   "execution_count": 93,
   "metadata": {},
   "outputs": [
    {
     "ename": "AttributeError",
     "evalue": "'Personne' object has no attribute '_get_lieu_residence'",
     "output_type": "error",
     "traceback": [
      "\u001b[0;31m---------------------------------------------------------------------------\u001b[0m",
      "\u001b[0;31mAttributeError\u001b[0m                            Traceback (most recent call last)",
      "\u001b[0;32m<ipython-input-93-adf9c5d3285f>\u001b[0m in \u001b[0;36m<module>\u001b[0;34m()\u001b[0m\n\u001b[0;32m----> 1\u001b[0;31m \u001b[0mjean\u001b[0m\u001b[1;33m.\u001b[0m\u001b[0m_get_lieu_residence\u001b[0m\u001b[1;33m(\u001b[0m\u001b[1;33m)\u001b[0m\u001b[1;33m\u001b[0m\u001b[0m\n\u001b[0m",
      "\u001b[0;31mAttributeError\u001b[0m: 'Personne' object has no attribute '_get_lieu_residence'"
     ]
    }
   ],
   "source": [
    "jean._get_lieu_residence()"
   ]
  },
  {
   "cell_type": "code",
   "execution_count": 103,
   "metadata": {
    "collapsed": true
   },
   "outputs": [],
   "source": [
    ">>> Mas = Personne(\"Michelle\", \"Mas\")"
   ]
  },
  {
   "cell_type": "code",
   "execution_count": 95,
   "metadata": {},
   "outputs": [
    {
     "name": "stdout",
     "output_type": "stream",
     "text": [
      "On accède à l'attribut lieu_residence !\n"
     ]
    },
    {
     "data": {
      "text/plain": [
       "'Paris'"
      ]
     },
     "execution_count": 95,
     "metadata": {},
     "output_type": "execute_result"
    }
   ],
   "source": [
    "Mas.lieu_residence"
   ]
  },
  {
   "cell_type": "code",
   "execution_count": 97,
   "metadata": {},
   "outputs": [
    {
     "ename": "AttributeError",
     "evalue": "'Personne' object has no attribute '__lieu_residence'",
     "output_type": "error",
     "traceback": [
      "\u001b[0;31m---------------------------------------------------------------------------\u001b[0m",
      "\u001b[0;31mAttributeError\u001b[0m                            Traceback (most recent call last)",
      "\u001b[0;32m<ipython-input-97-709d138351ec>\u001b[0m in \u001b[0;36m<module>\u001b[0;34m()\u001b[0m\n\u001b[0;32m----> 1\u001b[0;31m \u001b[0mMas\u001b[0m\u001b[1;33m.\u001b[0m\u001b[0m__lieu_residence\u001b[0m\u001b[1;33m\u001b[0m\u001b[0m\n\u001b[0m",
      "\u001b[0;31mAttributeError\u001b[0m: 'Personne' object has no attribute '__lieu_residence'"
     ]
    }
   ],
   "source": [
    "Mas.__lieu_residence"
   ]
  },
  {
   "cell_type": "code",
   "execution_count": 107,
   "metadata": {},
   "outputs": [
    {
     "ename": "AttributeError",
     "evalue": "'Personne' object has no attribute '__get_lieu_residence'",
     "output_type": "error",
     "traceback": [
      "\u001b[0;31m---------------------------------------------------------------------------\u001b[0m",
      "\u001b[0;31mAttributeError\u001b[0m                            Traceback (most recent call last)",
      "\u001b[0;32m<ipython-input-107-73196e06eba4>\u001b[0m in \u001b[0;36m<module>\u001b[0;34m()\u001b[0m\n\u001b[0;32m----> 1\u001b[0;31m \u001b[0mMas\u001b[0m\u001b[1;33m.\u001b[0m\u001b[0m__get_lieu_residence\u001b[0m\u001b[1;33m(\u001b[0m\u001b[1;33m)\u001b[0m\u001b[1;33m\u001b[0m\u001b[0m\n\u001b[0m",
      "\u001b[0;31mAttributeError\u001b[0m: 'Personne' object has no attribute '__get_lieu_residence'"
     ]
    }
   ],
   "source": [
    "Mas.__get_lieu_residence()"
   ]
  },
  {
   "cell_type": "raw",
   "metadata": {},
   "source": [
    "Il est aussi possible de définir, en troisième position du constructeurproperty, une méthode qui sera appelée quand on feradel objet.lieu_residenceet, en quatrième position, une méthode qui sera appelée quand on ferahelp(objet.lieu_residence). Ces deux dernières fonctionnalités sont un peu moins utilisées mais elles existent."
   ]
  },
  {
   "cell_type": "raw",
   "metadata": {
    "collapsed": true
   },
   "source": [
    "Il existe également une autre méthode,__del__, qui va être appelée au moment de la destruction de l'objet.\n",
    "\n",
    "La destruction ? Quand un objet se détruit-il ?\n",
    "Bonne question. Il y a plusieurs cas : d'abord, quand vous voulez le supprimer explicitement, grâce au mot-clédel(del mon_objet). Ensuite, si l'espace de noms contenant l'objet est détruit, l'objet l'est également. Par exemple, si vous instanciez l'objet dans le corps d'une fonction : à la fin de l'appel à la fonction, la méthode__del__de l'objet sera appelée. Enfin, si votre objet résiste envers et contre tout pendant l'exécution du programme, il sera supprimé à la fin de l'exécution."
   ]
  },
  {
   "cell_type": "code",
   "execution_count": 3,
   "metadata": {
    "collapsed": true
   },
   "outputs": [],
   "source": [
    "class Exemple:\n",
    "    \"\"\"Un petit exemple de classe\"\"\"\n",
    "    def __init__(self, nom):\n",
    "        \"\"\"Exemple de constructeur\"\"\"\n",
    "        self.nom = nom\n",
    "        self.autre_attribut = \"une valeur\"\n",
    "    def __del__(self):\n",
    "        \"\"\"Méthode appelée quand l'objet est supprimé\"\"\"\n",
    "        print(\"C'est la fin ! On me supprime !\")"
   ]
  },
  {
   "cell_type": "code",
   "execution_count": 4,
   "metadata": {
    "collapsed": true
   },
   "outputs": [],
   "source": [
    "mon_objet = Exemple(\"un premier exemple\")"
   ]
  },
  {
   "cell_type": "code",
   "execution_count": 7,
   "metadata": {},
   "outputs": [
    {
     "name": "stdout",
     "output_type": "stream",
     "text": [
      "C'est la fin ! On me supprime !\n"
     ]
    }
   ],
   "source": [
    "del(mon_objet)"
   ]
  },
  {
   "cell_type": "raw",
   "metadata": {},
   "source": [
    "Souvenez-vous que si vous ne définissez pas de méthode spéciale pour telle ou telle action, Python aura un comportement par défaut dans le contexte où cette méthode est appelée. Écrire une méthode spéciale permet de modifier ce comportement par défaut. Dans l'absolu, vous n'êtes même pas obligés d'écrire un constructeur."
   ]
  },
  {
   "cell_type": "code",
   "execution_count": 8,
   "metadata": {},
   "outputs": [
    {
     "ename": "NameError",
     "evalue": "name 'mon_objet' is not defined",
     "output_type": "error",
     "traceback": [
      "\u001b[0;31m---------------------------------------------------------------------------\u001b[0m",
      "\u001b[0;31mNameError\u001b[0m                                 Traceback (most recent call last)",
      "\u001b[0;32m<ipython-input-8-79338a46bb04>\u001b[0m in \u001b[0;36m<module>\u001b[0;34m()\u001b[0m\n\u001b[0;32m----> 1\u001b[0;31m \u001b[0mmon_objet\u001b[0m\u001b[1;33m\u001b[0m\u001b[0m\n\u001b[0m",
      "\u001b[0;31mNameError\u001b[0m: name 'mon_objet' is not defined"
     ]
    }
   ],
   "source": [
    "mon_objet"
   ]
  },
  {
   "cell_type": "code",
   "execution_count": 9,
   "metadata": {
    "collapsed": true
   },
   "outputs": [],
   "source": [
    "class Personne:\n",
    "    \"\"\"Classe représentant une personne\"\"\"\n",
    "    def __init__(self, nom, prenom):\n",
    "        \"\"\"Constructeur de notre classe\"\"\"\n",
    "        self.nom = nom\n",
    "        self.prenom = prenom\n",
    "        self.age = 33\n",
    "    def __repr__(self):\n",
    "        \"\"\"Quand on entre notre objet dans l'interpréteur\"\"\"\n",
    "        return \"Personne: nom({}), prénom({}), âge({})\".format(\n",
    "                self.nom, self.prenom, self.age)"
   ]
  },
  {
   "cell_type": "code",
   "execution_count": 10,
   "metadata": {},
   "outputs": [
    {
     "data": {
      "text/plain": [
       "Personne: nom(Micado), prénom(Jean), âge(33)"
      ]
     },
     "execution_count": 10,
     "metadata": {},
     "output_type": "execute_result"
    }
   ],
   "source": [
    ">>> p1 = Personne(\"Micado\", \"Jean\")\n",
    ">>> p1"
   ]
  },
  {
   "cell_type": "code",
   "execution_count": 11,
   "metadata": {},
   "outputs": [
    {
     "data": {
      "text/plain": [
       "'Personne: nom(Micado), prénom(Jean), âge(33)'"
      ]
     },
     "execution_count": 11,
     "metadata": {},
     "output_type": "execute_result"
    }
   ],
   "source": [
    "repr(p1)"
   ]
  },
  {
   "cell_type": "raw",
   "metadata": {},
   "source": [
    "Nous allons voir deux méthodes spéciales qui permettent de contrôler comment l'objet est représenté et affiché. Vous avez sûrement déjà pu constater que, quand on instancie des objets issus de nos propres classes, si on essaye de les afficher directement dans l'interpréteur ou grâce àprint, on obtient quelque chose d'assez laid :\n",
    "\n",
    "<__main__.XXX object at 0x00B46A70>\n",
    "On a certes les informations utiles, mais pas forcément celles qu'on veut, et l'ensemble n'est pas magnifique, il faut bien le reconnaître.\n",
    "\n",
    "La première méthode permettant de remédier à cet état de fait est__repr__. Elle affecte la façon dont est affiché l'objet quand on tape directement son nom. On la redéfinit quand on souhaite faciliter le debug sur certains objets :"
   ]
  },
  {
   "cell_type": "raw",
   "metadata": {},
   "source": [
    "Il existe une seconde méthode spéciale,__str__, spécialement utilisée pour afficher l'objet avecprint. Par défaut, si aucune méthode__str__n'est définie, Python appelle la méthode__repr__de l'objet. La méthode__str__est également appelée si vous désirez convertir votre objet en chaîne avec le constructeurstr."
   ]
  },
  {
   "cell_type": "code",
   "execution_count": 12,
   "metadata": {},
   "outputs": [
    {
     "data": {
      "text/plain": [
       "'Personne: nom(Micado), prénom(Jean), âge(33)'"
      ]
     },
     "execution_count": 12,
     "metadata": {},
     "output_type": "execute_result"
    }
   ],
   "source": [
    "str(p1)"
   ]
  },
  {
   "cell_type": "code",
   "execution_count": 13,
   "metadata": {},
   "outputs": [
    {
     "name": "stdout",
     "output_type": "stream",
     "text": [
      "Personne: nom(Micado), prénom(Jean), âge(33)\n"
     ]
    }
   ],
   "source": [
    "print(p1)"
   ]
  },
  {
   "cell_type": "raw",
   "metadata": {},
   "source": [
    "La méthode__getattr__\n",
    "\n",
    "La méthode spéciale__getattr__permet de définir une méthode d'accès à nos attributs plus large que celle que Python propose par défaut. En fait, cette méthode est appelée quand vous tapezobjet.attribut(non pas pour modifier l'attribut mais simplement pour y accéder). Python recherche l'attribut et, s'il ne le trouve pas dans l'objet et si une méthode__getattr__existe, il va l'appeler en lui passant en paramètre le nom de l'attribut recherché, sous la forme d'une chaîne de caractères."
   ]
  },
  {
   "cell_type": "code",
   "execution_count": 36,
   "metadata": {
    "collapsed": true
   },
   "outputs": [],
   "source": [
    ">>> class Protege:\n",
    "...     \"\"\"Classe possédant une méthode particulière d'accès à ses attributs :\n",
    "...     Si l'attribut n'est pas trouvé, on affiche une alerte et renvoie None\"\"\"\n",
    "...\n",
    "...     \n",
    "...     def __init__(self):\n",
    "...         \"\"\"On crée quelques attributs par défaut\"\"\"\n",
    "...         self.a = 1\n",
    "...         self.b = 2\n",
    "...         self.c = 3\n",
    "...     def __getattr__(self, nom):\n",
    "...         \"\"\"Si Python ne trouve pas l'attribut nommé nom, il appelle\n",
    "...         cette méthode. On affiche une alerte\"\"\"\n",
    "...\n",
    "...         \n",
    "...         print(\"Alerte ! Il n'y a pas d'attribut {} ici !\".format(nom))\n",
    "...                \n",
    ">>> pro = Protege()"
   ]
  },
  {
   "cell_type": "code",
   "execution_count": 37,
   "metadata": {},
   "outputs": [
    {
     "data": {
      "text/plain": [
       "2"
      ]
     },
     "execution_count": 37,
     "metadata": {},
     "output_type": "execute_result"
    }
   ],
   "source": [
    "pro.a=2\n",
    "pro.a"
   ]
  },
  {
   "cell_type": "raw",
   "metadata": {},
   "source": [
    "Vous comprenez le principe ? Si l'attribut auquel on souhaite accéder existe, notre méthode n'est pas appelée. En revanche, si l'attribut n'existe pas, notre méthode__getattr__est appelée."
   ]
  },
  {
   "cell_type": "raw",
   "metadata": {},
   "source": [
    "En résumé\n",
    "\n",
    "Les méthodes spéciales permettent d'influencer la manière dont Python accède aux attributs d'une instance et réagit à certains opérateurs ou conversions.\n",
    "Les méthodes spéciales sont toutes entourées de deux signes « souligné » (_).\n",
    "Les méthodes__getattr__,__setattr__et__delattr__contrôlent l'accès aux attributs de l'instance.\n",
    "Les méthodes__getitem__,__setitem__et__delitem__surchargent l'indexation ([]).\n",
    "Les méthodes__add__,__sub__,__mul__… surchargent les opérateurs mathématiques.\n",
    "Les méthodes__eq__,__ne__,__gt__… surchargent les opérateurs de comparaison."
   ]
  },
  {
   "cell_type": "raw",
   "metadata": {},
   "source": [
    "Une explication s'impose concernant la ligne 6, je pense. Je vais faire de mon mieux, sachant que j'expliquerai bien plus en détail, au prochain chapitre, le concept d'héritage. Pour l'instant, il vous suffit de savoir que toutes les classes que nous créons sont héritées de la classeobject. Cela veut dire essentiellement qu'elles reprennent les mêmes méthodes. La classeobjectest définie par Python. Je disais plus haut que, si vous ne définissiez pas une certaine méthode spéciale, Python avait un comportement par défaut : ce comportement est défini par la classeobject."
   ]
  },
  {
   "cell_type": "code",
   "execution_count": 38,
   "metadata": {
    "collapsed": true
   },
   "outputs": [],
   "source": [
    "class ZDict:\n",
    "    \"\"\"Classe enveloppe d'un dictionnaire\"\"\"\n",
    "    def __init__(self):\n",
    "        \"\"\"Notre classe n'accepte aucun paramètre\"\"\"\n",
    "        self._dictionnaire = {}\n",
    "    def __getitem__(self, index):\n",
    "        \"\"\"Cette méthode spéciale est appelée quand on fait objet[index]\n",
    "        Elle redirige vers self._dictionnaire[index]\"\"\"\n",
    "        \n",
    "        return self._dictionnaire[index]\n",
    "    def __setitem__(self, index, valeur):\n",
    "        \"\"\"Cette méthode est appelée quand on écrit objet[index] = valeur\n",
    "        On redirige vers self._dictionnaire[index] = valeur\"\"\"\n",
    "        \n",
    "        self._dictionnaire[index] = valeur"
   ]
  },
  {
   "cell_type": "code",
   "execution_count": 39,
   "metadata": {},
   "outputs": [
    {
     "data": {
      "text/plain": [
       "False"
      ]
     },
     "execution_count": 39,
     "metadata": {},
     "output_type": "execute_result"
    }
   ],
   "source": [
    "ma_liste = [1, 2, 3, 4, 5]\n",
    "8 in ma_liste # Revient au même que ..."
   ]
  },
  {
   "cell_type": "code",
   "execution_count": 40,
   "metadata": {},
   "outputs": [
    {
     "data": {
      "text/plain": [
       "False"
      ]
     },
     "execution_count": 40,
     "metadata": {},
     "output_type": "execute_result"
    }
   ],
   "source": [
    "ma_liste.__contains__(8)"
   ]
  },
  {
   "cell_type": "code",
   "execution_count": 41,
   "metadata": {
    "collapsed": true
   },
   "outputs": [],
   "source": [
    "zzdict=ZDict()"
   ]
  },
  {
   "cell_type": "code",
   "execution_count": 42,
   "metadata": {},
   "outputs": [
    {
     "ename": "KeyError",
     "evalue": "0",
     "output_type": "error",
     "traceback": [
      "\u001b[0;31m---------------------------------------------------------------------------\u001b[0m",
      "\u001b[0;31mKeyError\u001b[0m                                  Traceback (most recent call last)",
      "\u001b[0;32m<ipython-input-42-ffa4b940bbe1>\u001b[0m in \u001b[0;36m<module>\u001b[0;34m()\u001b[0m\n\u001b[0;32m----> 1\u001b[0;31m \u001b[1;36m1\u001b[0m \u001b[1;32min\u001b[0m \u001b[0mzzdict\u001b[0m\u001b[1;33m\u001b[0m\u001b[0m\n\u001b[0m",
      "\u001b[0;32m<ipython-input-38-a16bf0e03b38>\u001b[0m in \u001b[0;36m__getitem__\u001b[0;34m(self, index)\u001b[0m\n\u001b[1;32m      8\u001b[0m         Elle redirige vers self._dictionnaire[index]\"\"\"\n\u001b[1;32m      9\u001b[0m \u001b[1;33m\u001b[0m\u001b[0m\n\u001b[0;32m---> 10\u001b[0;31m         \u001b[1;32mreturn\u001b[0m \u001b[0mself\u001b[0m\u001b[1;33m.\u001b[0m\u001b[0m_dictionnaire\u001b[0m\u001b[1;33m[\u001b[0m\u001b[0mindex\u001b[0m\u001b[1;33m]\u001b[0m\u001b[1;33m\u001b[0m\u001b[0m\n\u001b[0m\u001b[1;32m     11\u001b[0m     \u001b[1;32mdef\u001b[0m \u001b[0m__setitem__\u001b[0m\u001b[1;33m(\u001b[0m\u001b[0mself\u001b[0m\u001b[1;33m,\u001b[0m \u001b[0mindex\u001b[0m\u001b[1;33m,\u001b[0m \u001b[0mvaleur\u001b[0m\u001b[1;33m)\u001b[0m\u001b[1;33m:\u001b[0m\u001b[1;33m\u001b[0m\u001b[0m\n\u001b[1;32m     12\u001b[0m         \"\"\"Cette méthode est appelée quand on écrit objet[index] = valeur\n",
      "\u001b[0;31mKeyError\u001b[0m: 0"
     ]
    }
   ],
   "source": [
    "1 in zzdict"
   ]
  },
  {
   "cell_type": "code",
   "execution_count": 43,
   "metadata": {
    "collapsed": true
   },
   "outputs": [],
   "source": [
    "class Duree:\n",
    "    \"\"\"Classe contenant des durées sous la forme d'un nombre de minutes\n",
    "    et de secondes\"\"\"\n",
    "    \n",
    "    def __init__(self, min=0, sec=0):\n",
    "        \"\"\"Constructeur de la classe\"\"\"\n",
    "        self.min = min # Nombre de minutes\n",
    "        self.sec = sec # Nombre de secondes\n",
    "    def __str__(self):\n",
    "        \"\"\"Affichage un peu plus joli de nos objets\"\"\"\n",
    "        return \"{0:02}:{1:02}\".format(self.min, self.sec)"
   ]
  },
  {
   "cell_type": "code",
   "execution_count": 44,
   "metadata": {},
   "outputs": [
    {
     "name": "stdout",
     "output_type": "stream",
     "text": [
      "03:05\n"
     ]
    }
   ],
   "source": [
    ">>> d1 = Duree(3, 5)\n",
    ">>> print(d1)"
   ]
  },
  {
   "cell_type": "code",
   "execution_count": 45,
   "metadata": {},
   "outputs": [
    {
     "ename": "TypeError",
     "evalue": "unsupported operand type(s) for +: 'Duree' and 'int'",
     "output_type": "error",
     "traceback": [
      "\u001b[0;31m---------------------------------------------------------------------------\u001b[0m",
      "\u001b[0;31mTypeError\u001b[0m                                 Traceback (most recent call last)",
      "\u001b[0;32m<ipython-input-45-d79f15755b5d>\u001b[0m in \u001b[0;36m<module>\u001b[0;34m()\u001b[0m\n\u001b[0;32m----> 1\u001b[0;31m \u001b[0md1\u001b[0m\u001b[1;33m+\u001b[0m\u001b[1;36m2\u001b[0m\u001b[1;33m\u001b[0m\u001b[0m\n\u001b[0m",
      "\u001b[0;31mTypeError\u001b[0m: unsupported operand type(s) for +: 'Duree' and 'int'"
     ]
    }
   ],
   "source": [
    "d1+2"
   ]
  },
  {
   "cell_type": "code",
   "execution_count": 50,
   "metadata": {
    "collapsed": true
   },
   "outputs": [],
   "source": [
    "class Duree:\n",
    "    \"\"\"Classe contenant des durées sous la forme d'un nombre de minutes\n",
    "    et de secondes\"\"\"\n",
    "    \n",
    "    def __init__(self, min=0, sec=0):\n",
    "        \"\"\"Constructeur de la classe\"\"\"\n",
    "        self.min = min # Nombre de minutes\n",
    "        self.sec = sec # Nombre de secondes\n",
    "    def __str__(self):\n",
    "        \"\"\"Affichage un peu plus joli de nos objets\"\"\"\n",
    "        return \"{0:02}:{1:02}\".format(self.min, self.sec)\n",
    "    def __add__(self, objet_a_ajouter):\n",
    "        \"\"\"L'objet à ajouter est un entier, le nombre de secondes\"\"\"\n",
    "        nouvelle_duree = Duree()\n",
    "        # On va copier self dans l'objet créé pour avoir la même durée\n",
    "        nouvelle_duree.min = self.min\n",
    "        nouvelle_duree.sec = self.sec\n",
    "        # On ajoute la durée\n",
    "        nouvelle_duree.sec += objet_a_ajouter\n",
    "        # Si le nombre de secondes >= 60\n",
    "        if nouvelle_duree.sec >= 60:\n",
    "            nouvelle_duree.min += nouvelle_duree.sec // 60\n",
    "            nouvelle_duree.sec = nouvelle_duree.sec % 60\n",
    "        # On renvoie la nouvelle durée\n",
    "        return nouvelle_duree\n",
    "    def __radd__(self, objet_a_ajouter):\n",
    "        \"\"\"Cette méthode est appelée si on écrit 4 + objet et que\n",
    "        le premier objet (4 dans cet exemple) ne sait pas comment ajouter\n",
    "        le second. On se contente de rediriger sur __add__ puisque,\n",
    "        ici, cela revient au même : l'opération doit avoir le même résultat,\n",
    "        posée dans un sens ou dans l'autre\"\"\"\n",
    "        \n",
    "        return self + objet_a_ajouter"
   ]
  },
  {
   "cell_type": "code",
   "execution_count": 51,
   "metadata": {
    "collapsed": true
   },
   "outputs": [],
   "source": [
    ">>> d1 = Duree(3, 5)"
   ]
  },
  {
   "cell_type": "code",
   "execution_count": 52,
   "metadata": {},
   "outputs": [
    {
     "name": "stdout",
     "output_type": "stream",
     "text": [
      "03:07\n"
     ]
    }
   ],
   "source": [
    "print(d1+2)"
   ]
  },
  {
   "cell_type": "code",
   "execution_count": 54,
   "metadata": {},
   "outputs": [
    {
     "name": "stdout",
     "output_type": "stream",
     "text": [
      "03:07\n"
     ]
    }
   ],
   "source": [
    "print(2+d1)"
   ]
  },
  {
   "cell_type": "raw",
   "metadata": {},
   "source": [
    "Deux méthodes\n",
    "\n",
    "Pour trier une séquence de données, Python nous propose deux méthodes :\n",
    "\n",
    "La première est une méthode de liste. Elle s'appelle tout simplement sort (trier en anglais). Elle travaille sur la liste-même et change donc son ordre, si c'est nécessaire.\n",
    "La seconde est la fonction sorted. Il s'agit d'une fonction builtin, c'est-à-dire qu'elle est disponible d'office dans Python sans avoir besoin d'importer quoique ce soit. Contrairement à la méthode sort de la class list, sorted travaille sur n'importe quel type de séquence (tuple, liste ou même dictionnaire). Une importante différence avec la méthode list.sort est qu'elle ne modifie pas l'objet d'origine, mais en retourne un nouveau."
   ]
  },
  {
   "cell_type": "code",
   "execution_count": 1,
   "metadata": {},
   "outputs": [
    {
     "data": {
      "text/plain": [
       "['Albert', 'André', 'Jacques', 'Laure', 'Sophie', 'Victoire']"
      ]
     },
     "execution_count": 1,
     "metadata": {},
     "output_type": "execute_result"
    }
   ],
   "source": [
    ">>> prenoms = [\"Jacques\", \"Laure\", \"André\", \"Victoire\", \"Albert\", \"Sophie\"]\n",
    ">>> prenoms.sort()\n",
    ">>> prenoms"
   ]
  },
  {
   "cell_type": "code",
   "execution_count": 2,
   "metadata": {},
   "outputs": [
    {
     "data": {
      "text/plain": [
       "['Albert', 'André', 'Jacques', 'Laure', 'Sophie', 'Victoire']"
      ]
     },
     "execution_count": 2,
     "metadata": {},
     "output_type": "execute_result"
    }
   ],
   "source": [
    ">>> sorted(prenoms)"
   ]
  },
  {
   "cell_type": "raw",
   "metadata": {},
   "source": [
    "L'argument key\n",
    "\n",
    "La méthode list.sort ou la fonction sorted ont tous deux un paramètre optionnel, appelé key.\n",
    "\n",
    "Cet argument attend... une fonction. Attendez ! Je m'explique.\n",
    "\n",
    "La fonction à passer en paramètre prend un élément de la liste et retourne ce sur quoi doit s'effectuer le tri."
   ]
  },
  {
   "cell_type": "code",
   "execution_count": 4,
   "metadata": {
    "collapsed": true
   },
   "outputs": [],
   "source": [
    "etudiants = [\n",
    "    (\"Clément\", 14, 16),\n",
    "    (\"Charles\", 12, 15),\n",
    "    (\"Oriane\", 14, 18),\n",
    "    (\"Thomas\", 11, 12),\n",
    "    (\"Damien\", 12, 15),\n",
    "]"
   ]
  },
  {
   "cell_type": "code",
   "execution_count": 5,
   "metadata": {},
   "outputs": [
    {
     "data": {
      "text/plain": [
       "[('Thomas', 11, 12),\n",
       " ('Charles', 12, 15),\n",
       " ('Damien', 12, 15),\n",
       " ('Clément', 14, 16),\n",
       " ('Oriane', 14, 18)]"
      ]
     },
     "execution_count": 5,
     "metadata": {},
     "output_type": "execute_result"
    }
   ],
   "source": [
    ">>> sorted(etudiants, key=lambda colonnes: colonnes[2])\n",
    "[\n",
    "    ('Thomas', 11, 12), \n",
    "    ('Charles', 12, 15), \n",
    "    ('Damien', 12, 15), \n",
    "    ('Clément', 14, 16),\n",
    "    ('Oriane', 14, 18)\n",
    "]"
   ]
  },
  {
   "cell_type": "code",
   "execution_count": 6,
   "metadata": {
    "collapsed": true
   },
   "outputs": [],
   "source": [
    "class Etudiant:\n",
    "\n",
    "    \"\"\"Classe représentant un étudiant.\n",
    "\n",
    "    On représente un étudiant par son prénom (attribut prenom), son âge\n",
    "    (attribut age) et sa note moyenne (attribut moyenne, entre 0 et 20).\n",
    "\n",
    "    Paramètres du constructeur :\n",
    "        prenom -- le prénom de l'étudiant\n",
    "        age -- l'âge de l'étudiant\n",
    "        moyenne -- la moyenne de l'étudiant\n",
    "\n",
    "    \"\"\"\n",
    "\n",
    "    def __init__(self, prenom, age, moyenne):\n",
    "        self.prenom = prenom\n",
    "        self.age = age\n",
    "        self.moyenne = moyenne\n",
    "\n",
    "    def __repr__(self):\n",
    "        return \"<Étudiant {} (âge={}, moyenne={})>\".format(\n",
    "                self.prenom, self.age, self.moyenne)"
   ]
  },
  {
   "cell_type": "code",
   "execution_count": 7,
   "metadata": {
    "collapsed": true
   },
   "outputs": [],
   "source": [
    "etudiants = [\n",
    "    Etudiant(\"Clément\", 14, 16),\n",
    "    Etudiant(\"Charles\", 12, 15),\n",
    "    Etudiant(\"Oriane\", 14, 18),\n",
    "    Etudiant(\"Thomas\", 11, 12),\n",
    "    Etudiant(\"Damien\", 12, 15),\n",
    "]"
   ]
  },
  {
   "cell_type": "code",
   "execution_count": 8,
   "metadata": {},
   "outputs": [
    {
     "data": {
      "text/plain": [
       "[<Étudiant Thomas (âge=11, moyenne=12)>,\n",
       " <Étudiant Charles (âge=12, moyenne=15)>,\n",
       " <Étudiant Damien (âge=12, moyenne=15)>,\n",
       " <Étudiant Clément (âge=14, moyenne=16)>,\n",
       " <Étudiant Oriane (âge=14, moyenne=18)>]"
      ]
     },
     "execution_count": 8,
     "metadata": {},
     "output_type": "execute_result"
    }
   ],
   "source": [
    "sorted(etudiants, key=lambda etudiant: etudiant.moyenne)"
   ]
  },
  {
   "cell_type": "code",
   "execution_count": 9,
   "metadata": {},
   "outputs": [
    {
     "data": {
      "text/plain": [
       "[<Étudiant Clément (âge=14, moyenne=16)>,\n",
       " <Étudiant Oriane (âge=14, moyenne=18)>,\n",
       " <Étudiant Charles (âge=12, moyenne=15)>,\n",
       " <Étudiant Damien (âge=12, moyenne=15)>,\n",
       " <Étudiant Thomas (âge=11, moyenne=12)>]"
      ]
     },
     "execution_count": 9,
     "metadata": {},
     "output_type": "execute_result"
    }
   ],
   "source": [
    "sorted(etudiants, key=lambda etudiant: etudiant.age, reverse=True)"
   ]
  },
  {
   "cell_type": "raw",
   "metadata": {},
   "source": [
    "Les fonctions du module operator\n",
    "\n",
    "Le module operator propose plusieurs fonctions qui vont s'avérer utiles pour nous, dans ce cas précis. Nous allons nous intéresser tout particulièrement aux fonctions itemgetter et attrgetter, mais sachez qu'il en existe d'autres et que le module operator n'est pas uniquement utile pour le tri, loin s'en faut."
   ]
  },
  {
   "cell_type": "code",
   "execution_count": 13,
   "metadata": {},
   "outputs": [
    {
     "data": {
      "text/plain": [
       "[<Étudiant Thomas (âge=11, moyenne=12)>,\n",
       " <Étudiant Charles (âge=12, moyenne=15)>,\n",
       " <Étudiant Damien (âge=12, moyenne=15)>,\n",
       " <Étudiant Clément (âge=14, moyenne=16)>,\n",
       " <Étudiant Oriane (âge=14, moyenne=18)>]"
      ]
     },
     "execution_count": 13,
     "metadata": {},
     "output_type": "execute_result"
    }
   ],
   "source": [
    "from operator import attrgetter\n",
    ">>> sorted(etudiants, key=attrgetter(\"age\", \"moyenne\"))"
   ]
  },
  {
   "cell_type": "code",
   "execution_count": 12,
   "metadata": {},
   "outputs": [
    {
     "name": "stdout",
     "output_type": "stream",
     "text": [
      "Help on module operator:\n",
      "\n",
      "NAME\n",
      "    operator - Operator interface.\n",
      "\n",
      "DESCRIPTION\n",
      "    This module exports a set of functions implemented in C corresponding\n",
      "    to the intrinsic operators of Python.  For example, operator.add(x, y)\n",
      "    is equivalent to the expression x+y.  The function names are those\n",
      "    used for special methods; variants without leading and trailing\n",
      "    '__' are also provided for convenience.\n",
      "\n",
      "CLASSES\n",
      "    builtins.object\n",
      "        attrgetter\n",
      "        itemgetter\n",
      "        methodcaller\n",
      "    \n",
      "    class attrgetter(builtins.object)\n",
      "     |  attrgetter(attr, ...) --> attrgetter object\n",
      "     |  \n",
      "     |  Return a callable object that fetches the given attribute(s) from its operand.\n",
      "     |  After f = attrgetter('name'), the call f(r) returns r.name.\n",
      "     |  After g = attrgetter('name', 'date'), the call g(r) returns (r.name, r.date).\n",
      "     |  After h = attrgetter('name.first', 'name.last'), the call h(r) returns\n",
      "     |  (r.name.first, r.name.last).\n",
      "     |  \n",
      "     |  Methods defined here:\n",
      "     |  \n",
      "     |  __call__(self, /, *args, **kwargs)\n",
      "     |      Call self as a function.\n",
      "     |  \n",
      "     |  __getattribute__(self, name, /)\n",
      "     |      Return getattr(self, name).\n",
      "     |  \n",
      "     |  __new__(*args, **kwargs) from builtins.type\n",
      "     |      Create and return a new object.  See help(type) for accurate signature.\n",
      "     |  \n",
      "     |  __reduce__(...)\n",
      "     |      Return state information for pickling\n",
      "     |  \n",
      "     |  __repr__(self, /)\n",
      "     |      Return repr(self).\n",
      "    \n",
      "    class itemgetter(builtins.object)\n",
      "     |  itemgetter(item, ...) --> itemgetter object\n",
      "     |  \n",
      "     |  Return a callable object that fetches the given item(s) from its operand.\n",
      "     |  After f = itemgetter(2), the call f(r) returns r[2].\n",
      "     |  After g = itemgetter(2, 5, 3), the call g(r) returns (r[2], r[5], r[3])\n",
      "     |  \n",
      "     |  Methods defined here:\n",
      "     |  \n",
      "     |  __call__(self, /, *args, **kwargs)\n",
      "     |      Call self as a function.\n",
      "     |  \n",
      "     |  __getattribute__(self, name, /)\n",
      "     |      Return getattr(self, name).\n",
      "     |  \n",
      "     |  __new__(*args, **kwargs) from builtins.type\n",
      "     |      Create and return a new object.  See help(type) for accurate signature.\n",
      "     |  \n",
      "     |  __reduce__(...)\n",
      "     |      Return state information for pickling\n",
      "     |  \n",
      "     |  __repr__(self, /)\n",
      "     |      Return repr(self).\n",
      "    \n",
      "    class methodcaller(builtins.object)\n",
      "     |  methodcaller(name, ...) --> methodcaller object\n",
      "     |  \n",
      "     |  Return a callable object that calls the given method on its operand.\n",
      "     |  After f = methodcaller('name'), the call f(r) returns r.name().\n",
      "     |  After g = methodcaller('name', 'date', foo=1), the call g(r) returns\n",
      "     |  r.name('date', foo=1).\n",
      "     |  \n",
      "     |  Methods defined here:\n",
      "     |  \n",
      "     |  __call__(self, /, *args, **kwargs)\n",
      "     |      Call self as a function.\n",
      "     |  \n",
      "     |  __getattribute__(self, name, /)\n",
      "     |      Return getattr(self, name).\n",
      "     |  \n",
      "     |  __new__(*args, **kwargs) from builtins.type\n",
      "     |      Create and return a new object.  See help(type) for accurate signature.\n",
      "     |  \n",
      "     |  __reduce__(...)\n",
      "     |      Return state information for pickling\n",
      "     |  \n",
      "     |  __repr__(self, /)\n",
      "     |      Return repr(self).\n",
      "\n",
      "FUNCTIONS\n",
      "    __abs__ = abs(...)\n",
      "        abs(a) -- Same as abs(a).\n",
      "    \n",
      "    __add__ = add(...)\n",
      "        add(a, b) -- Same as a + b.\n",
      "    \n",
      "    __and__ = and_(...)\n",
      "        and_(a, b) -- Same as a & b.\n",
      "    \n",
      "    __concat__ = concat(...)\n",
      "        concat(a, b) -- Same as a + b, for a and b sequences.\n",
      "    \n",
      "    __contains__ = contains(...)\n",
      "        contains(a, b) -- Same as b in a (note reversed operands).\n",
      "    \n",
      "    __delitem__ = delitem(...)\n",
      "        delitem(a, b) -- Same as del a[b].\n",
      "    \n",
      "    __eq__ = eq(...)\n",
      "        eq(a, b) -- Same as a==b.\n",
      "    \n",
      "    __floordiv__ = floordiv(...)\n",
      "        floordiv(a, b) -- Same as a // b.\n",
      "    \n",
      "    __ge__ = ge(...)\n",
      "        ge(a, b) -- Same as a>=b.\n",
      "    \n",
      "    __getitem__ = getitem(...)\n",
      "        getitem(a, b) -- Same as a[b].\n",
      "    \n",
      "    __gt__ = gt(...)\n",
      "        gt(a, b) -- Same as a>b.\n",
      "    \n",
      "    __iadd__ = iadd(...)\n",
      "        a = iadd(a, b) -- Same as a += b.\n",
      "    \n",
      "    __iand__ = iand(...)\n",
      "        a = iand(a, b) -- Same as a &= b.\n",
      "    \n",
      "    __iconcat__ = iconcat(...)\n",
      "        a = iconcat(a, b) -- Same as a += b, for a and b sequences.\n",
      "    \n",
      "    __ifloordiv__ = ifloordiv(...)\n",
      "        a = ifloordiv(a, b) -- Same as a //= b.\n",
      "    \n",
      "    __ilshift__ = ilshift(...)\n",
      "        a = ilshift(a, b) -- Same as a <<= b.\n",
      "    \n",
      "    __imatmul__ = imatmul(...)\n",
      "        a = imatmul(a, b) -- Same as a @= b.\n",
      "    \n",
      "    __imod__ = imod(...)\n",
      "        a = imod(a, b) -- Same as a %= b.\n",
      "    \n",
      "    __imul__ = imul(...)\n",
      "        a = imul(a, b) -- Same as a *= b.\n",
      "    \n",
      "    __index__ = index(...)\n",
      "        index(a) -- Same as a.__index__()\n",
      "    \n",
      "    __inv__ = inv(...)\n",
      "        inv(a) -- Same as ~a.\n",
      "    \n",
      "    __invert__ = invert(...)\n",
      "        invert(a) -- Same as ~a.\n",
      "    \n",
      "    __ior__ = ior(...)\n",
      "        a = ior(a, b) -- Same as a |= b.\n",
      "    \n",
      "    __ipow__ = ipow(...)\n",
      "        a = ipow(a, b) -- Same as a **= b.\n",
      "    \n",
      "    __irshift__ = irshift(...)\n",
      "        a = irshift(a, b) -- Same as a >>= b.\n",
      "    \n",
      "    __isub__ = isub(...)\n",
      "        a = isub(a, b) -- Same as a -= b.\n",
      "    \n",
      "    __itruediv__ = itruediv(...)\n",
      "        a = itruediv(a, b) -- Same as a /= b\n",
      "    \n",
      "    __ixor__ = ixor(...)\n",
      "        a = ixor(a, b) -- Same as a ^= b.\n",
      "    \n",
      "    __le__ = le(...)\n",
      "        le(a, b) -- Same as a<=b.\n",
      "    \n",
      "    __lshift__ = lshift(...)\n",
      "        lshift(a, b) -- Same as a << b.\n",
      "    \n",
      "    __lt__ = lt(...)\n",
      "        lt(a, b) -- Same as a<b.\n",
      "    \n",
      "    __matmul__ = matmul(...)\n",
      "        matmul(a, b) -- Same as a @ b.\n",
      "    \n",
      "    __mod__ = mod(...)\n",
      "        mod(a, b) -- Same as a % b.\n",
      "    \n",
      "    __mul__ = mul(...)\n",
      "        mul(a, b) -- Same as a * b.\n",
      "    \n",
      "    __ne__ = ne(...)\n",
      "        ne(a, b) -- Same as a!=b.\n",
      "    \n",
      "    __neg__ = neg(...)\n",
      "        neg(a) -- Same as -a.\n",
      "    \n",
      "    __not__ = not_(...)\n",
      "        not_(a) -- Same as not a.\n",
      "    \n",
      "    __or__ = or_(...)\n",
      "        or_(a, b) -- Same as a | b.\n",
      "    \n",
      "    __pos__ = pos(...)\n",
      "        pos(a) -- Same as +a.\n",
      "    \n",
      "    __pow__ = pow(...)\n",
      "        pow(a, b) -- Same as a ** b.\n",
      "    \n",
      "    __rshift__ = rshift(...)\n",
      "        rshift(a, b) -- Same as a >> b.\n",
      "    \n",
      "    __setitem__ = setitem(...)\n",
      "        setitem(a, b, c) -- Same as a[b] = c.\n",
      "    \n",
      "    __sub__ = sub(...)\n",
      "        sub(a, b) -- Same as a - b.\n",
      "    \n",
      "    __truediv__ = truediv(...)\n",
      "        truediv(a, b) -- Same as a / b.\n",
      "    \n",
      "    __xor__ = xor(...)\n",
      "        xor(a, b) -- Same as a ^ b.\n",
      "    \n",
      "    abs(...)\n",
      "        abs(a) -- Same as abs(a).\n",
      "    \n",
      "    add(...)\n",
      "        add(a, b) -- Same as a + b.\n",
      "    \n",
      "    and_(...)\n",
      "        and_(a, b) -- Same as a & b.\n",
      "    \n",
      "    concat(...)\n",
      "        concat(a, b) -- Same as a + b, for a and b sequences.\n",
      "    \n",
      "    contains(...)\n",
      "        contains(a, b) -- Same as b in a (note reversed operands).\n",
      "    \n",
      "    countOf(...)\n",
      "        countOf(a, b) -- Return the number of times b occurs in a.\n",
      "    \n",
      "    delitem(...)\n",
      "        delitem(a, b) -- Same as del a[b].\n",
      "    \n",
      "    eq(...)\n",
      "        eq(a, b) -- Same as a==b.\n",
      "    \n",
      "    floordiv(...)\n",
      "        floordiv(a, b) -- Same as a // b.\n",
      "    \n",
      "    ge(...)\n",
      "        ge(a, b) -- Same as a>=b.\n",
      "    \n",
      "    getitem(...)\n",
      "        getitem(a, b) -- Same as a[b].\n",
      "    \n",
      "    gt(...)\n",
      "        gt(a, b) -- Same as a>b.\n",
      "    \n",
      "    iadd(...)\n",
      "        a = iadd(a, b) -- Same as a += b.\n",
      "    \n",
      "    iand(...)\n",
      "        a = iand(a, b) -- Same as a &= b.\n",
      "    \n",
      "    iconcat(...)\n",
      "        a = iconcat(a, b) -- Same as a += b, for a and b sequences.\n",
      "    \n",
      "    ifloordiv(...)\n",
      "        a = ifloordiv(a, b) -- Same as a //= b.\n",
      "    \n",
      "    ilshift(...)\n",
      "        a = ilshift(a, b) -- Same as a <<= b.\n",
      "    \n",
      "    imatmul(...)\n",
      "        a = imatmul(a, b) -- Same as a @= b.\n",
      "    \n",
      "    imod(...)\n",
      "        a = imod(a, b) -- Same as a %= b.\n",
      "    \n",
      "    imul(...)\n",
      "        a = imul(a, b) -- Same as a *= b.\n",
      "    \n",
      "    index(...)\n",
      "        index(a) -- Same as a.__index__()\n",
      "    \n",
      "    indexOf(...)\n",
      "        indexOf(a, b) -- Return the first index of b in a.\n",
      "    \n",
      "    inv(...)\n",
      "        inv(a) -- Same as ~a.\n",
      "    \n",
      "    invert(...)\n",
      "        invert(a) -- Same as ~a.\n",
      "    \n",
      "    ior(...)\n",
      "        a = ior(a, b) -- Same as a |= b.\n",
      "    \n",
      "    ipow(...)\n",
      "        a = ipow(a, b) -- Same as a **= b.\n",
      "    \n",
      "    irshift(...)\n",
      "        a = irshift(a, b) -- Same as a >>= b.\n",
      "    \n",
      "    is_(...)\n",
      "        is_(a, b) -- Same as a is b.\n",
      "    \n",
      "    is_not(...)\n",
      "        is_not(a, b) -- Same as a is not b.\n",
      "    \n",
      "    isub(...)\n",
      "        a = isub(a, b) -- Same as a -= b.\n",
      "    \n",
      "    itruediv(...)\n",
      "        a = itruediv(a, b) -- Same as a /= b\n",
      "    \n",
      "    ixor(...)\n",
      "        a = ixor(a, b) -- Same as a ^= b.\n",
      "    \n",
      "    le(...)\n",
      "        le(a, b) -- Same as a<=b.\n",
      "    \n",
      "    length_hint(...)\n",
      "        length_hint(obj, default=0) -> int\n",
      "        Return an estimate of the number of items in obj.\n",
      "        This is useful for presizing containers when building from an\n",
      "        iterable.\n",
      "        \n",
      "        If the object supports len(), the result will be\n",
      "        exact. Otherwise, it may over- or under-estimate by an\n",
      "        arbitrary amount. The result will be an integer >= 0.\n",
      "    \n",
      "    lshift(...)\n",
      "        lshift(a, b) -- Same as a << b.\n",
      "    \n",
      "    lt(...)\n",
      "        lt(a, b) -- Same as a<b.\n",
      "    \n",
      "    matmul(...)\n",
      "        matmul(a, b) -- Same as a @ b.\n",
      "    \n",
      "    mod(...)\n",
      "        mod(a, b) -- Same as a % b.\n",
      "    \n",
      "    mul(...)\n",
      "        mul(a, b) -- Same as a * b.\n",
      "    \n",
      "    ne(...)\n",
      "        ne(a, b) -- Same as a!=b.\n",
      "    \n",
      "    neg(...)\n",
      "        neg(a) -- Same as -a.\n",
      "    \n",
      "    not_(...)\n",
      "        not_(a) -- Same as not a.\n",
      "    \n",
      "    or_(...)\n",
      "        or_(a, b) -- Same as a | b.\n",
      "    \n",
      "    pos(...)\n",
      "        pos(a) -- Same as +a.\n",
      "    \n",
      "    pow(...)\n",
      "        pow(a, b) -- Same as a ** b.\n",
      "    \n",
      "    rshift(...)\n",
      "        rshift(a, b) -- Same as a >> b.\n",
      "    \n",
      "    setitem(...)\n",
      "        setitem(a, b, c) -- Same as a[b] = c.\n",
      "    \n",
      "    sub(...)\n",
      "        sub(a, b) -- Same as a - b.\n",
      "    \n",
      "    truediv(...)\n",
      "        truediv(a, b) -- Same as a / b.\n",
      "    \n",
      "    truth(...)\n",
      "        truth(a) -- Return True if a is true, False otherwise.\n",
      "    \n",
      "    xor(...)\n",
      "        xor(a, b) -- Same as a ^ b.\n",
      "\n",
      "DATA\n",
      "    __all__ = ['abs', 'add', 'and_', 'attrgetter', 'concat', 'contains', '...\n",
      "\n",
      "FILE\n",
      "    d:\\anaconda3\\lib\\operator.py\n",
      "\n",
      "\n"
     ]
    }
   ],
   "source": [
    "help('operator')"
   ]
  },
  {
   "cell_type": "code",
   "execution_count": 15,
   "metadata": {
    "collapsed": true
   },
   "outputs": [],
   "source": [
    "etudiants = [\n",
    "    (\"Clément\", 14, 16),\n",
    "    (\"Charles\", 12, 15),\n",
    "    (\"Oriane\", 14, 18),\n",
    "    (\"Thomas\", 11, 12),\n",
    "    (\"Damien\", 12, 15),\n",
    "]"
   ]
  },
  {
   "cell_type": "code",
   "execution_count": 18,
   "metadata": {},
   "outputs": [
    {
     "data": {
      "text/plain": [
       "[('Thomas', 11, 12),\n",
       " ('Charles', 12, 15),\n",
       " ('Damien', 12, 15),\n",
       " ('Clément', 14, 16),\n",
       " ('Oriane', 14, 18)]"
      ]
     },
     "execution_count": 18,
     "metadata": {},
     "output_type": "execute_result"
    }
   ],
   "source": [
    "from operator import itemgetter\n",
    "sorted(etudiants, key=itemgetter(1,2))"
   ]
  },
  {
   "cell_type": "code",
   "execution_count": 19,
   "metadata": {
    "collapsed": true
   },
   "outputs": [],
   "source": [
    "class LigneInventaire:\n",
    "\n",
    "    \"\"\"Classe représentant une ligne d'un inventaire de vente.\n",
    "\n",
    "    Attributs attendus par le constructeur :\n",
    "        produit -- le nom du produit\n",
    "        prix -- le prix unitaire du produit\n",
    "        quantite -- la quantité vendue du produit.\n",
    "\n",
    "    \"\"\"\n",
    "\n",
    "    def __init__(self, produit, prix, quantite):\n",
    "        self.produit = produit\n",
    "        self.prix = prix\n",
    "        self.quantite = quantite\n",
    "\n",
    "    def __repr__(self):\n",
    "        return \"<Ligne d'inventaire {} ({}X{})>\".format(\n",
    "                self.produit, self.prix, self.quantite)\n",
    "\n",
    "# Création de l'inventaire\n",
    "inventaire = [\n",
    "    LigneInventaire(\"pomme rouge\", 1.2, 19),\n",
    "    LigneInventaire(\"orange\", 1.4, 24),\n",
    "    LigneInventaire(\"banane\", 0.9, 21),\n",
    "    LigneInventaire(\"poire\", 1.2, 24),\n",
    "]"
   ]
  },
  {
   "cell_type": "code",
   "execution_count": 20,
   "metadata": {},
   "outputs": [
    {
     "data": {
      "text/plain": [
       "[<Ligne d'inventaire banane (0.9X21)>,\n",
       " <Ligne d'inventaire pomme rouge (1.2X19)>,\n",
       " <Ligne d'inventaire poire (1.2X24)>,\n",
       " <Ligne d'inventaire orange (1.4X24)>]"
      ]
     },
     "execution_count": 20,
     "metadata": {},
     "output_type": "execute_result"
    }
   ],
   "source": [
    "from operator import attrgetter\n",
    "sorted(inventaire, key=attrgetter(\"prix\", \"quantite\"))"
   ]
  },
  {
   "cell_type": "code",
   "execution_count": 21,
   "metadata": {},
   "outputs": [
    {
     "data": {
      "text/plain": [
       "[<Ligne d'inventaire banane (0.9X21)>,\n",
       " <Ligne d'inventaire poire (1.2X24)>,\n",
       " <Ligne d'inventaire pomme rouge (1.2X19)>,\n",
       " <Ligne d'inventaire orange (1.4X24)>]"
      ]
     },
     "execution_count": 21,
     "metadata": {},
     "output_type": "execute_result"
    }
   ],
   "source": [
    "inventaire.sort(key=attrgetter(\"quantite\"), reverse=True)\n",
    "sorted(inventaire, key=attrgetter(\"prix\"))"
   ]
  },
  {
   "cell_type": "code",
   "execution_count": 1,
   "metadata": {
    "collapsed": true
   },
   "outputs": [],
   "source": [
    "class Personne:\n",
    "    \"\"\"Classe représentant une personne\"\"\"\n",
    "    def __init__(self, nom):\n",
    "        \"\"\"Constructeur de notre classe\"\"\"\n",
    "        self.nom = nom\n",
    "        self.prenom = \"Martin\"\n",
    "    def __str__(self):\n",
    "        \"\"\"Méthode appelée lors d'une conversion de l'objet en chaîne\"\"\"\n",
    "        return \"{0} {1}\".format(self.prenom, self.nom)\n",
    "\n",
    "class AgentSpecial(Personne):\n",
    "    \"\"\"Classe définissant un agent spécial.\n",
    "    Elle hérite de la classe Personne\"\"\"\n",
    "    \n",
    "    def __init__(self, nom, matricule):\n",
    "        \"\"\"Un agent se définit par son nom et son matricule\"\"\"\n",
    "        self.nom = nom\n",
    "        self.matricule = matricule\n",
    "    def __str__(self):\n",
    "        \"\"\"Méthode appelée lors d'une conversion de l'objet en chaîne\"\"\"\n",
    "        return \"Agent {0}, matricule {1}\".format(self.nom, self.matricule)"
   ]
  },
  {
   "cell_type": "code",
   "execution_count": 2,
   "metadata": {
    "collapsed": true
   },
   "outputs": [],
   "source": [
    "agent = AgentSpecial(\"Fisher\", \"18327-121\")"
   ]
  },
  {
   "cell_type": "code",
   "execution_count": 3,
   "metadata": {},
   "outputs": [
    {
     "data": {
      "text/plain": [
       "'Fisher'"
      ]
     },
     "execution_count": 3,
     "metadata": {},
     "output_type": "execute_result"
    }
   ],
   "source": [
    ">>> agent.nom\n"
   ]
  },
  {
   "cell_type": "code",
   "execution_count": 4,
   "metadata": {},
   "outputs": [
    {
     "name": "stdout",
     "output_type": "stream",
     "text": [
      "Agent Fisher, matricule 18327-121\n"
     ]
    }
   ],
   "source": [
    ">>> print(agent)"
   ]
  },
  {
   "cell_type": "code",
   "execution_count": 5,
   "metadata": {},
   "outputs": [
    {
     "ename": "AttributeError",
     "evalue": "'AgentSpecial' object has no attribute 'prenom'",
     "output_type": "error",
     "traceback": [
      "\u001b[1;31m---------------------------------------------------------------------------\u001b[0m",
      "\u001b[1;31mAttributeError\u001b[0m                            Traceback (most recent call last)",
      "\u001b[1;32m<ipython-input-5-8719a9df5281>\u001b[0m in \u001b[0;36m<module>\u001b[1;34m()\u001b[0m\n\u001b[1;32m----> 1\u001b[1;33m \u001b[0magent\u001b[0m\u001b[1;33m.\u001b[0m\u001b[0mprenom\u001b[0m\u001b[1;33m\u001b[0m\u001b[0m\n\u001b[0m",
      "\u001b[1;31mAttributeError\u001b[0m: 'AgentSpecial' object has no attribute 'prenom'"
     ]
    }
   ],
   "source": [
    ">>> agent.prenom"
   ]
  },
  {
   "cell_type": "raw",
   "metadata": {},
   "source": [
    "Argh… mais tu n'avais pas dit qu'une classe reprenait les méthodes et attributs de sa classe mère ?\n",
    "Si. Mais en suivant bien l'exécution, vous allez comprendre : tout commence à la création de l'objet. Quel constructeur appeler ? S'il n'y avait pas de constructeur défini dans notre classe AgentSpecial, Python appellerait celui de Personne. Mais il en existe bel et bien un dans la classe AgentSpecial et c'est donc celui-ci qui est appelé. Dans ce constructeur, on définit deux attributs, nom et matricule. Mais c'est tout : le constructeur de la classe Personne n'est pas appelé, sauf si vous l'appelez explicitement dans le constructeur d'AgentSpecial."
   ]
  },
  {
   "cell_type": "code",
   "execution_count": 6,
   "metadata": {
    "collapsed": true
   },
   "outputs": [],
   "source": [
    "class Personne:\n",
    "    \"\"\"Classe représentant une personne\"\"\"\n",
    "    def __init__(self, nom):\n",
    "        \"\"\"Constructeur de notre classe\"\"\"\n",
    "        self.nom = nom\n",
    "        self.prenom = \"Martin\"\n",
    "    def __str__(self):\n",
    "        \"\"\"Méthode appelée lors d'une conversion de l'objet en chaîne\"\"\"\n",
    "        return \"{0} {1}\".format(self.prenom, self.nom)\n",
    "\n",
    "class AgentSpecial(Personne):\n",
    "    \"\"\"Classe définissant un agent spécial.\n",
    "    Elle hérite de la classe Personne\"\"\"\n",
    "    \n",
    "    def __init__(self, nom, matricule):\n",
    "        \"\"\"Un agent se définit par son nom et son matricule\"\"\"\n",
    "        # On appelle explicitement le constructeur de Personne :\n",
    "        Personne.__init__(self, nom)\n",
    "        self.matricule = matricule\n",
    "    def __str__(self):\n",
    "        \"\"\"Méthode appelée lors d'une conversion de l'objet en chaîne\"\"\"\n",
    "        return \"Agent {0}, matricule {1}\".format(self.nom, self.matricule)"
   ]
  },
  {
   "cell_type": "code",
   "execution_count": 9,
   "metadata": {},
   "outputs": [
    {
     "data": {
      "text/plain": [
       "'Martin'"
      ]
     },
     "execution_count": 9,
     "metadata": {},
     "output_type": "execute_result"
    }
   ],
   "source": [
    ">>> agent = AgentSpecial(\"Fisher\", \"18327-121\")\n",
    ">>> agent.prenom"
   ]
  },
  {
   "cell_type": "code",
   "execution_count": 11,
   "metadata": {},
   "outputs": [
    {
     "data": {
      "text/plain": [
       "True"
      ]
     },
     "execution_count": 11,
     "metadata": {},
     "output_type": "execute_result"
    }
   ],
   "source": [
    "issubclass(AgentSpecial, Personne) # AgentSpecial hérite de Personne"
   ]
  },
  {
   "cell_type": "code",
   "execution_count": 12,
   "metadata": {},
   "outputs": [
    {
     "data": {
      "text/plain": [
       "False"
      ]
     },
     "execution_count": 12,
     "metadata": {},
     "output_type": "execute_result"
    }
   ],
   "source": [
    "issubclass(Personne, AgentSpecial) # Personne n'hérite pas d'AgentSpecial"
   ]
  },
  {
   "cell_type": "code",
   "execution_count": 14,
   "metadata": {},
   "outputs": [
    {
     "data": {
      "text/plain": [
       "True"
      ]
     },
     "execution_count": 14,
     "metadata": {},
     "output_type": "execute_result"
    }
   ],
   "source": [
    ">>> isinstance(agent, AgentSpecial) # Agent est une instance d'AgentSpecial"
   ]
  },
  {
   "cell_type": "code",
   "execution_count": 15,
   "metadata": {},
   "outputs": [
    {
     "data": {
      "text/plain": [
       "True"
      ]
     },
     "execution_count": 15,
     "metadata": {},
     "output_type": "execute_result"
    }
   ],
   "source": [
    ">>> isinstance(agent, Personne) # Agent est une instance héritée de Personne"
   ]
  },
  {
   "cell_type": "raw",
   "metadata": {},
   "source": [
    "La recherche des méthodes se fait dans l'ordre de la définition de la classe. Dans l'exemple ci-dessus, si on appelle une méthode d'un objet issu de MaClasseHeritee, on va d'abord chercher dans la classe MaClasseHeritee. Si la méthode n'est pas trouvée, on la cherche d'abord dans MaClasseMere1. Encore une fois, si la méthode n'est pas trouvée, on cherche dans toutes les classes mères de la classe MaClasseMere1, si elle en a, et selon le même système. Si, encore et toujours, on ne trouve pas la méthode, on la recherche dans MaClasseMere2 et ses classes mères successives.\n",
    "\n",
    "C'est donc l'ordre de définition des classes mères qui importe. On va chercher la méthode dans les classes mères de gauche à droite. Si on ne trouve pas la méthode dans une classe mère donnée, on remonte dans ses classes mères, et ainsi de suite."
   ]
  },
  {
   "cell_type": "raw",
   "metadata": {},
   "source": [
    "Création d'exceptions personnalisées\n",
    "\n",
    "Il peut vous être utile de créer vos propres exceptions. Puisque les exceptions sont des classes, comme nous venons de le voir, rien ne vous empêche de créer les vôtres. Vous pourrez les lever avec raise, les intercepter avec except.\n",
    "\n",
    "Se positionner dans la hiérarchie\n",
    "\n",
    "Vos exceptions doivent hériter d'une exception built-in proposée par Python. Commencez par parcourir la hiérarchie des exceptions built-in pour voir si votre exception peut être dérivée d'une exception qui lui serait proche. La plupart du temps, vous devrez choisir entre ces deux exceptions :\n",
    "\n",
    "BaseException : la classe mère de toutes les exceptions. La plupart du temps, si vous faites hériter votre classe de BaseException, ce sera pour modéliser une exception qui ne sera pas foncièrement une erreur, par exemple une interruption dans le traitement de votre programme.\n",
    "Exception : c'est de cette classe que vos exceptions hériteront la plupart du temps. C'est la classe mère de toutes les exceptions « d'erreurs »."
   ]
  },
  {
   "cell_type": "code",
   "execution_count": 16,
   "metadata": {
    "collapsed": true
   },
   "outputs": [],
   "source": [
    "class MonException(Exception):\n",
    "    \"\"\"Exception levée dans un certain contexte… qui reste à définir\"\"\"\n",
    "    def __init__(self, message):\n",
    "        \"\"\"On se contente de stocker le message d'erreur\"\"\"\n",
    "        self.message = message\n",
    "    def __str__(self):\n",
    "        \"\"\"On renvoie le message\"\"\"\n",
    "        return self.message"
   ]
  },
  {
   "cell_type": "code",
   "execution_count": 17,
   "metadata": {},
   "outputs": [
    {
     "ename": "MonException",
     "evalue": "OUPS... j'ai tout cassé",
     "output_type": "error",
     "traceback": [
      "\u001b[1;31m---------------------------------------------------------------------------\u001b[0m",
      "\u001b[1;31mMonException\u001b[0m                              Traceback (most recent call last)",
      "\u001b[1;32m<ipython-input-17-11b0a0eb4d24>\u001b[0m in \u001b[0;36m<module>\u001b[1;34m()\u001b[0m\n\u001b[1;32m----> 1\u001b[1;33m \u001b[1;32mraise\u001b[0m \u001b[0mMonException\u001b[0m\u001b[1;33m(\u001b[0m\u001b[1;34m\"OUPS... j'ai tout cassé\"\u001b[0m\u001b[1;33m)\u001b[0m\u001b[1;33m\u001b[0m\u001b[0m\n\u001b[0m",
      "\u001b[1;31mMonException\u001b[0m: OUPS... j'ai tout cassé"
     ]
    }
   ],
   "source": [
    ">>> raise MonException(\"OUPS... j'ai tout cassé\")"
   ]
  },
  {
   "cell_type": "code",
   "execution_count": 18,
   "metadata": {
    "collapsed": true
   },
   "outputs": [],
   "source": [
    "class ErreurAnalyseFichier(Exception):\n",
    "    \"\"\"Cette exception est levée quand un fichier (de configuration)\n",
    "    n'a pas pu être analysé.\n",
    "    \n",
    "    Attributs :\n",
    "        fichier -- le nom du fichier posant problème\n",
    "        ligne -- le numéro de la ligne posant problème\n",
    "        message -- le problème proprement dit\"\"\"\n",
    "    \n",
    "    def __init__(self, fichier, ligne, message):\n",
    "        \"\"\"Constructeur de notre exception\"\"\"\n",
    "        self.fichier = fichier\n",
    "        self.ligne = ligne\n",
    "        self.message = message\n",
    "    def __str__(self):\n",
    "        \"\"\"Affichage de l'exception\"\"\"\n",
    "        return \"[{}:{}]: {}\".format(self.fichier, self.ligne, \\\n",
    "                self.message)"
   ]
  },
  {
   "cell_type": "code",
   "execution_count": 19,
   "metadata": {},
   "outputs": [
    {
     "ename": "ErreurAnalyseFichier",
     "evalue": "[plop.conf:34]: Il manque une parenthèse à la fin de l'expression",
     "output_type": "error",
     "traceback": [
      "\u001b[1;31m---------------------------------------------------------------------------\u001b[0m",
      "\u001b[1;31mErreurAnalyseFichier\u001b[0m                      Traceback (most recent call last)",
      "\u001b[1;32m<ipython-input-19-084bf8015a07>\u001b[0m in \u001b[0;36m<module>\u001b[1;34m()\u001b[0m\n\u001b[0;32m      1\u001b[0m raise ErreurAnalyseFichier(\"plop.conf\", 34,\n\u001b[1;32m----> 2\u001b[1;33m         \"Il manque une parenthèse à la fin de l'expression\")\n\u001b[0m",
      "\u001b[1;31mErreurAnalyseFichier\u001b[0m: [plop.conf:34]: Il manque une parenthèse à la fin de l'expression"
     ]
    }
   ],
   "source": [
    ">>> raise ErreurAnalyseFichier(\"plop.conf\", 34,\n",
    "...         \"Il manque une parenthèse à la fin de l'expression\")"
   ]
  },
  {
   "cell_type": "code",
   "execution_count": 20,
   "metadata": {},
   "outputs": [
    {
     "data": {
      "text/plain": [
       "<str_iterator at 0xa0479a1be0>"
      ]
     },
     "execution_count": 20,
     "metadata": {},
     "output_type": "execute_result"
    }
   ],
   "source": [
    ">>> ma_chaine = \"test\"\n",
    ">>> iterateur_de_ma_chaine = iter(ma_chaine)\n",
    ">>> iterateur_de_ma_chaine"
   ]
  },
  {
   "cell_type": "code",
   "execution_count": 21,
   "metadata": {},
   "outputs": [
    {
     "data": {
      "text/plain": [
       "'t'"
      ]
     },
     "execution_count": 21,
     "metadata": {},
     "output_type": "execute_result"
    }
   ],
   "source": [
    "next(iterateur_de_ma_chaine)"
   ]
  },
  {
   "cell_type": "code",
   "execution_count": 29,
   "metadata": {},
   "outputs": [],
   "source": [
    "class RevStr(str):\n",
    "    \"\"\"Classe reprenant les méthodes et attributs des chaînes construites\n",
    "    depuis 'str'. On se contente de définir une méthode de parcours\n",
    "    différente : au lieu de parcourir la chaîne de la première à la dernière\n",
    "    lettre, on la parcourt de la dernière à la première.\n",
    "    \n",
    "    Les autres méthodes, y compris le constructeur, n'ont pas besoin\n",
    "    d'être redéfinies\"\"\"\n",
    "    \n",
    "    def __iter__(self):\n",
    "        \"\"\"Cette méthode renvoie un itérateur parcourant la chaîne\n",
    "        dans le sens inverse de celui de 'str'\"\"\"\n",
    "        \n",
    "        return ItRevStr(self) # On renvoie l'itérateur créé pour l'occasion\n",
    "\n",
    "class ItRevStr:\n",
    "    \"\"\"Un itérateur permettant de parcourir une chaîne de la dernière lettre\n",
    "    à la première. On stocke dans des attributs la position courante et la\n",
    "    chaîne à parcourir\"\"\"\n",
    "    \n",
    "    def __init__(self, chaine_a_parcourir):\n",
    "        \"\"\"On se positionne à la fin de la chaîne\"\"\"\n",
    "        self.chaine_a_parcourir = chaine_a_parcourir\n",
    "        self.position = len(chaine_a_parcourir)\n",
    "    def __next__(self):\n",
    "        \"\"\"Cette méthode doit renvoyer l'élément suivant dans le parcours,\n",
    "        ou lever l'exception 'StopIteration' si le parcours est fini\"\"\"\n",
    "        \n",
    "        if self.position == 0: # Fin du parcours\n",
    "            raise StopIteration\n",
    "        self.position -= 1 # On décrémente la position\n",
    "        return self.chaine_a_parcourir[self.position]"
   ]
  },
  {
   "cell_type": "code",
   "execution_count": 30,
   "metadata": {},
   "outputs": [
    {
     "data": {
      "text/plain": [
       "'Bonjour'"
      ]
     },
     "execution_count": 30,
     "metadata": {},
     "output_type": "execute_result"
    }
   ],
   "source": [
    ">>> ma_chaine = RevStr(\"Bonjour\")\n",
    ">>> ma_chaine"
   ]
  },
  {
   "cell_type": "code",
   "execution_count": 31,
   "metadata": {},
   "outputs": [
    {
     "name": "stdout",
     "output_type": "stream",
     "text": [
      "r\n",
      "u\n",
      "o\n",
      "j\n",
      "n\n",
      "o\n",
      "B\n"
     ]
    }
   ],
   "source": [
    " for lettre in ma_chaine:\n",
    "...     print(lettre)"
   ]
  },
  {
   "cell_type": "code",
   "execution_count": 32,
   "metadata": {
    "collapsed": true
   },
   "outputs": [],
   "source": [
    "def intervalle(borne_inf, borne_sup):\n",
    "    \"\"\"Générateur parcourant la série des entiers entre borne_inf et borne_sup.\n",
    "    \n",
    "    Note: borne_inf doit être inférieure à borne_sup\"\"\"\n",
    "    \n",
    "    borne_inf += 1\n",
    "    while borne_inf < borne_sup:\n",
    "        yield borne_inf\n",
    "        borne_inf += 1"
   ]
  },
  {
   "cell_type": "code",
   "execution_count": 33,
   "metadata": {
    "collapsed": true
   },
   "outputs": [],
   "source": [
    "generateur = intervalle(5, 20)\n",
    "for nombre in generateur:\n",
    "    if nombre > 17:\n",
    "        generateur.close() # Interruption de la boucle"
   ]
  },
  {
   "cell_type": "code",
   "execution_count": 34,
   "metadata": {},
   "outputs": [
    {
     "name": "stdout",
     "output_type": "stream",
     "text": [
      "Notre décorateur est appelé avec en paramètre la fonction <function salut at 0x000000A047982D90>\n"
     ]
    }
   ],
   "source": [
    ">>> def mon_decorateur(fonction):\n",
    "...     \"\"\"Premier exemple de décorateur\"\"\"\n",
    "...     print(\"Notre décorateur est appelé avec en paramètre la fonction {0}\".format(fonction))\n",
    "...     return fonction\n",
    "...\n",
    ">>> @mon_decorateur\n",
    "... def salut():\n",
    "...     \"\"\"Fonction modifiée par notre décorateur\"\"\"\n",
    "...     print(\"Salut !\")"
   ]
  },
  {
   "cell_type": "code",
   "execution_count": 35,
   "metadata": {},
   "outputs": [
    {
     "name": "stdout",
     "output_type": "stream",
     "text": [
      "Salut !\n"
     ]
    }
   ],
   "source": [
    "salut()"
   ]
  },
  {
   "cell_type": "code",
   "execution_count": 36,
   "metadata": {
    "collapsed": true
   },
   "outputs": [],
   "source": [
    "def mon_decorateur(fonction):\n",
    "    \"\"\"Notre décorateur : il va afficher un message avant l'appel de la\n",
    "    fonction définie\"\"\"\n",
    "    \n",
    "    def fonction_modifiee():\n",
    "        \"\"\"Fonction que l'on va renvoyer. Il s'agit en fait d'une version\n",
    "        un peu modifiée de notre fonction originellement définie. On se\n",
    "        contente d'afficher un avertissement avant d'exécuter notre fonction\n",
    "        originellement définie\"\"\"\n",
    "        \n",
    "        print(\"Attention ! On appelle {0}\".format(fonction))\n",
    "        return fonction()\n",
    "    return fonction_modifiee\n",
    "\n",
    "@mon_decorateur\n",
    "def salut():\n",
    "    print(\"Salut !\")"
   ]
  },
  {
   "cell_type": "code",
   "execution_count": 37,
   "metadata": {},
   "outputs": [
    {
     "name": "stdout",
     "output_type": "stream",
     "text": [
      "Attention ! On appelle <function salut at 0x000000A0478E7F28>\n",
      "Salut !\n"
     ]
    }
   ],
   "source": [
    ">>> salut()"
   ]
  },
  {
   "cell_type": "code",
   "execution_count": 38,
   "metadata": {},
   "outputs": [
    {
     "data": {
      "text/plain": [
       "<function __main__.mon_decorateur.<locals>.fonction_modifiee>"
      ]
     },
     "execution_count": 38,
     "metadata": {},
     "output_type": "execute_result"
    }
   ],
   "source": [
    "salut"
   ]
  },
  {
   "cell_type": "code",
   "execution_count": 39,
   "metadata": {
    "collapsed": true
   },
   "outputs": [],
   "source": [
    "class Personne:\n",
    "    \n",
    "    \"\"\"Classe définissant une personne.\n",
    "    \n",
    "    Elle possède comme attributs :\n",
    "    nom -- le nom de la personne\n",
    "    prenom -- son prénom\n",
    "    age -- son âge\n",
    "    lieu_residence -- son lieu de résidence\n",
    "    \n",
    "    Le nom et le prénom doivent être passés au constructeur.\"\"\"\n",
    "    \n",
    "    def __new__(cls, nom, prenom):\n",
    "        print(\"Appel de la méthode __new__ de la classe {}\".format(cls))\n",
    "        # On laisse le travail à object\n",
    "        return object.__new__(cls, nom, prenom)\n",
    "    \n",
    "    def __init__(self, nom, prenom):\n",
    "        \"\"\"Constructeur de notre personne.\"\"\"\n",
    "        print(\"Appel de la méthode __init__\")\n",
    "        self.nom = nom\n",
    "        self.prenom = prenom\n",
    "        self.age = 23\n",
    "        self.lieu_residence = \"Lyon\""
   ]
  },
  {
   "cell_type": "code",
   "execution_count": 40,
   "metadata": {},
   "outputs": [
    {
     "name": "stdout",
     "output_type": "stream",
     "text": [
      "Appel de la méthode __new__ de la classe <class '__main__.Personne'>\n"
     ]
    },
    {
     "ename": "TypeError",
     "evalue": "object() takes no parameters",
     "output_type": "error",
     "traceback": [
      "\u001b[1;31m---------------------------------------------------------------------------\u001b[0m",
      "\u001b[1;31mTypeError\u001b[0m                                 Traceback (most recent call last)",
      "\u001b[1;32m<ipython-input-40-2f867935f1b0>\u001b[0m in \u001b[0;36m<module>\u001b[1;34m()\u001b[0m\n\u001b[1;32m----> 1\u001b[1;33m \u001b[0mpersonne\u001b[0m \u001b[1;33m=\u001b[0m \u001b[0mPersonne\u001b[0m\u001b[1;33m(\u001b[0m\u001b[1;34m\"Doe\"\u001b[0m\u001b[1;33m,\u001b[0m \u001b[1;34m\"John\"\u001b[0m\u001b[1;33m)\u001b[0m\u001b[1;33m\u001b[0m\u001b[0m\n\u001b[0m",
      "\u001b[1;32m<ipython-input-39-348c26ad687d>\u001b[0m in \u001b[0;36m__new__\u001b[1;34m(cls, nom, prenom)\u001b[0m\n\u001b[0;32m     14\u001b[0m         \u001b[0mprint\u001b[0m\u001b[1;33m(\u001b[0m\u001b[1;34m\"Appel de la méthode __new__ de la classe {}\"\u001b[0m\u001b[1;33m.\u001b[0m\u001b[0mformat\u001b[0m\u001b[1;33m(\u001b[0m\u001b[0mcls\u001b[0m\u001b[1;33m)\u001b[0m\u001b[1;33m)\u001b[0m\u001b[1;33m\u001b[0m\u001b[0m\n\u001b[0;32m     15\u001b[0m         \u001b[1;31m# On laisse le travail à object\u001b[0m\u001b[1;33m\u001b[0m\u001b[1;33m\u001b[0m\u001b[0m\n\u001b[1;32m---> 16\u001b[1;33m         \u001b[1;32mreturn\u001b[0m \u001b[0mobject\u001b[0m\u001b[1;33m.\u001b[0m\u001b[0m__new__\u001b[0m\u001b[1;33m(\u001b[0m\u001b[0mcls\u001b[0m\u001b[1;33m,\u001b[0m \u001b[0mnom\u001b[0m\u001b[1;33m,\u001b[0m \u001b[0mprenom\u001b[0m\u001b[1;33m)\u001b[0m\u001b[1;33m\u001b[0m\u001b[0m\n\u001b[0m\u001b[0;32m     17\u001b[0m \u001b[1;33m\u001b[0m\u001b[0m\n\u001b[0;32m     18\u001b[0m     \u001b[1;32mdef\u001b[0m \u001b[0m__init__\u001b[0m\u001b[1;33m(\u001b[0m\u001b[0mself\u001b[0m\u001b[1;33m,\u001b[0m \u001b[0mnom\u001b[0m\u001b[1;33m,\u001b[0m \u001b[0mprenom\u001b[0m\u001b[1;33m)\u001b[0m\u001b[1;33m:\u001b[0m\u001b[1;33m\u001b[0m\u001b[0m\n",
      "\u001b[1;31mTypeError\u001b[0m: object() takes no parameters"
     ]
    }
   ],
   "source": [
    ">>> personne = Personne(\"Doe\", \"John\")"
   ]
  },
  {
   "cell_type": "code",
   "execution_count": null,
   "metadata": {
    "collapsed": true
   },
   "outputs": [],
   "source": []
  }
 ],
 "metadata": {
  "kernelspec": {
   "display_name": "Python 3",
   "language": "python",
   "name": "python3"
  },
  "language_info": {
   "codemirror_mode": {
    "name": "ipython",
    "version": 3
   },
   "file_extension": ".py",
   "mimetype": "text/x-python",
   "name": "python",
   "nbconvert_exporter": "python",
   "pygments_lexer": "ipython3",
   "version": "3.6.1"
  }
 },
 "nbformat": 4,
 "nbformat_minor": 2
}
