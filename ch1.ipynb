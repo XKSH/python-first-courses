{
 "cells": [
  {
   "cell_type": "code",
   "execution_count": 1,
   "metadata": {
    "collapsed": false
   },
   "outputs": [
    {
     "data": {
      "text/plain": [
       "9.5"
      ]
     },
     "execution_count": 1,
     "metadata": {},
     "output_type": "execute_result"
    }
   ],
   "source": [
    "9.5"
   ]
  },
  {
   "cell_type": "code",
   "execution_count": 2,
   "metadata": {
    "collapsed": false
   },
   "outputs": [
    {
     "data": {
      "text/plain": [
       "7"
      ]
     },
     "execution_count": 2,
     "metadata": {},
     "output_type": "execute_result"
    }
   ],
   "source": [
    "3+4"
   ]
  },
  {
   "cell_type": "code",
   "execution_count": 3,
   "metadata": {
    "collapsed": false
   },
   "outputs": [
    {
     "data": {
      "text/plain": [
       "91"
      ]
     },
     "execution_count": 3,
     "metadata": {},
     "output_type": "execute_result"
    }
   ],
   "source": [
    "-2+93"
   ]
  },
  {
   "cell_type": "code",
   "execution_count": 4,
   "metadata": {
    "collapsed": false
   },
   "outputs": [
    {
     "data": {
      "text/plain": [
       "11.5"
      ]
     },
     "execution_count": 4,
     "metadata": {},
     "output_type": "execute_result"
    }
   ],
   "source": [
    "9.5+2"
   ]
  },
  {
   "cell_type": "code",
   "execution_count": 5,
   "metadata": {
    "collapsed": false
   },
   "outputs": [
    {
     "data": {
      "text/plain": [
       "5.1899999999999995"
      ]
     },
     "execution_count": 5,
     "metadata": {},
     "output_type": "execute_result"
    }
   ],
   "source": [
    "3.11+2.08"
   ]
  },
  {
   "cell_type": "code",
   "execution_count": 7,
   "metadata": {
    "collapsed": false
   },
   "outputs": [
    {
     "data": {
      "text/plain": [
       "2.0"
      ]
     },
     "execution_count": 7,
     "metadata": {},
     "output_type": "execute_result"
    }
   ],
   "source": [
    "10/5"
   ]
  },
  {
   "cell_type": "code",
   "execution_count": 8,
   "metadata": {
    "collapsed": false
   },
   "outputs": [
    {
     "data": {
      "text/plain": [
       "3.3333333333333335"
      ]
     },
     "execution_count": 8,
     "metadata": {},
     "output_type": "execute_result"
    }
   ],
   "source": [
    "10/3"
   ]
  },
  {
   "cell_type": "code",
   "execution_count": 11,
   "metadata": {
    "collapsed": false
   },
   "outputs": [
    {
     "data": {
      "text/plain": [
       "3.0"
      ]
     },
     "execution_count": 11,
     "metadata": {},
     "output_type": "execute_result"
    }
   ],
   "source": [
    "10.2//3"
   ]
  },
  {
   "cell_type": "code",
   "execution_count": 10,
   "metadata": {
    "collapsed": false
   },
   "outputs": [
    {
     "data": {
      "text/plain": [
       "1.1999999999999993"
      ]
     },
     "execution_count": 10,
     "metadata": {},
     "output_type": "execute_result"
    }
   ],
   "source": [
    "10.2%3"
   ]
  },
  {
   "cell_type": "code",
   "execution_count": 1,
   "metadata": {
    "collapsed": true
   },
   "outputs": [],
   "source": [
    "mon_age=25"
   ]
  },
  {
   "cell_type": "code",
   "execution_count": 2,
   "metadata": {
    "collapsed": false
   },
   "outputs": [
    {
     "data": {
      "text/plain": [
       "25"
      ]
     },
     "execution_count": 2,
     "metadata": {},
     "output_type": "execute_result"
    }
   ],
   "source": [
    "mon_age"
   ]
  },
  {
   "cell_type": "code",
   "execution_count": 3,
   "metadata": {
    "collapsed": true
   },
   "outputs": [],
   "source": [
    "mon_age=mon_age+1"
   ]
  },
  {
   "cell_type": "code",
   "execution_count": 4,
   "metadata": {
    "collapsed": false
   },
   "outputs": [
    {
     "data": {
      "text/plain": [
       "26"
      ]
     },
     "execution_count": 4,
     "metadata": {},
     "output_type": "execute_result"
    }
   ],
   "source": [
    "mon_age"
   ]
  },
  {
   "cell_type": "code",
   "execution_count": 5,
   "metadata": {
    "collapsed": true
   },
   "outputs": [],
   "source": [
    "mon_age_x2=mon_age*2"
   ]
  },
  {
   "cell_type": "code",
   "execution_count": 6,
   "metadata": {
    "collapsed": false
   },
   "outputs": [
    {
     "data": {
      "text/plain": [
       "52"
      ]
     },
     "execution_count": 6,
     "metadata": {},
     "output_type": "execute_result"
    }
   ],
   "source": [
    "mon_age_x2"
   ]
  },
  {
   "cell_type": "code",
   "execution_count": 8,
   "metadata": {
    "collapsed": true
   },
   "outputs": [],
   "source": [
    "mon_age_x2=52.0"
   ]
  },
  {
   "cell_type": "code",
   "execution_count": 9,
   "metadata": {
    "collapsed": false
   },
   "outputs": [
    {
     "data": {
      "text/plain": [
       "52.0"
      ]
     },
     "execution_count": 9,
     "metadata": {},
     "output_type": "execute_result"
    }
   ],
   "source": [
    "mon_age_x2"
   ]
  },
  {
   "cell_type": "code",
   "execution_count": 11,
   "metadata": {
    "collapsed": false
   },
   "outputs": [
    {
     "ename": "SyntaxError",
     "evalue": "invalid syntax (<ipython-input-11-36d22cb95bfb>, line 1)",
     "output_type": "error",
     "traceback": [
      "\u001b[0;36m  File \u001b[0;32m\"<ipython-input-11-36d22cb95bfb>\"\u001b[0;36m, line \u001b[0;32m1\u001b[0m\n\u001b[0;31m    chaine = 'J'aime le python'\u001b[0m\n\u001b[0m                   ^\u001b[0m\n\u001b[0;31mSyntaxError\u001b[0m\u001b[0;31m:\u001b[0m invalid syntax\n"
     ]
    }
   ],
   "source": [
    "chaine = 'J'aime le python'"
   ]
  },
  {
   "cell_type": "code",
   "execution_count": 12,
   "metadata": {
    "collapsed": true
   },
   "outputs": [],
   "source": [
    "chaine = 'J\\'aime le python'"
   ]
  },
  {
   "cell_type": "code",
   "execution_count": 13,
   "metadata": {
    "collapsed": false
   },
   "outputs": [
    {
     "data": {
      "text/plain": [
       "\"J'aime le python\""
      ]
     },
     "execution_count": 13,
     "metadata": {},
     "output_type": "execute_result"
    }
   ],
   "source": [
    "chaine "
   ]
  },
  {
   "cell_type": "code",
   "execution_count": 14,
   "metadata": {
    "collapsed": true
   },
   "outputs": [],
   "source": [
    "chaine2 = \"\\\"Le seul individu formé, c'est celui qui a appris comment apprendre (...)\\\" (Karl Rogers, 1976)\""
   ]
  },
  {
   "cell_type": "code",
   "execution_count": 18,
   "metadata": {
    "collapsed": false
   },
   "outputs": [],
   "source": [
    "chain3=\"essai\\nsur\\nplusieurs\\nlignes\\\\\""
   ]
  },
  {
   "cell_type": "code",
   "execution_count": 19,
   "metadata": {
    "collapsed": false
   },
   "outputs": [
    {
     "data": {
      "text/plain": [
       "'essai \\n sur\\nplusieurs\\nlignes\\\\'"
      ]
     },
     "execution_count": 19,
     "metadata": {},
     "output_type": "execute_result"
    }
   ],
   "source": [
    "chain3"
   ]
  },
  {
   "cell_type": "code",
   "execution_count": 22,
   "metadata": {
    "collapsed": true
   },
   "outputs": [],
   "source": [
    "chaine3 = \"\"\"Ceci est un nouvel\n",
    "... essai sur plusieurs\n",
    "... lignes\"\"\""
   ]
  },
  {
   "cell_type": "code",
   "execution_count": 23,
   "metadata": {
    "collapsed": false
   },
   "outputs": [
    {
     "data": {
      "text/plain": [
       "'Ceci est un nouvel\\n essai sur plusieurs\\n... lignes'"
      ]
     },
     "execution_count": 23,
     "metadata": {},
     "output_type": "execute_result"
    }
   ],
   "source": [
    "chaine3"
   ]
  },
  {
   "cell_type": "code",
   "execution_count": 25,
   "metadata": {
    "collapsed": false
   },
   "outputs": [],
   "source": [
    "a=2;b=3"
   ]
  },
  {
   "cell_type": "code",
   "execution_count": 26,
   "metadata": {
    "collapsed": true
   },
   "outputs": [],
   "source": [
    "a,b=b,a"
   ]
  },
  {
   "cell_type": "code",
   "execution_count": 27,
   "metadata": {
    "collapsed": false
   },
   "outputs": [
    {
     "data": {
      "text/plain": [
       "3"
      ]
     },
     "execution_count": 27,
     "metadata": {},
     "output_type": "execute_result"
    }
   ],
   "source": [
    "a"
   ]
  },
  {
   "cell_type": "code",
   "execution_count": 30,
   "metadata": {
    "collapsed": false
   },
   "outputs": [],
   "source": [
    "x=y=3"
   ]
  },
  {
   "cell_type": "code",
   "execution_count": 31,
   "metadata": {
    "collapsed": false
   },
   "outputs": [
    {
     "data": {
      "text/plain": [
       "3"
      ]
     },
     "execution_count": 31,
     "metadata": {},
     "output_type": "execute_result"
    }
   ],
   "source": [
    "x"
   ]
  },
  {
   "cell_type": "code",
   "execution_count": 37,
   "metadata": {
    "collapsed": false
   },
   "outputs": [],
   "source": [
    "x=x+2\\\n",
    "... -1"
   ]
  },
  {
   "cell_type": "code",
   "execution_count": 38,
   "metadata": {
    "collapsed": false
   },
   "outputs": [
    {
     "data": {
      "text/plain": [
       "4"
      ]
     },
     "execution_count": 38,
     "metadata": {},
     "output_type": "execute_result"
    }
   ],
   "source": [
    "x"
   ]
  },
  {
   "cell_type": "code",
   "execution_count": 40,
   "metadata": {
    "collapsed": false
   },
   "outputs": [
    {
     "data": {
      "text/plain": [
       "-1"
      ]
     },
     "execution_count": 40,
     "metadata": {},
     "output_type": "execute_result"
    }
   ],
   "source": [
    "3+2\\\n",
    "... -1\n",
    "-1"
   ]
  },
  {
   "cell_type": "code",
   "execution_count": 41,
   "metadata": {
    "collapsed": false
   },
   "outputs": [
    {
     "data": {
      "text/plain": [
       "3"
      ]
     },
     "execution_count": 41,
     "metadata": {},
     "output_type": "execute_result"
    }
   ],
   "source": [
    "3+2\\\n",
    "... -1\\\n",
    "... -1"
   ]
  },
  {
   "cell_type": "code",
   "execution_count": 42,
   "metadata": {
    "collapsed": false
   },
   "outputs": [
    {
     "data": {
      "text/plain": [
       "int"
      ]
     },
     "execution_count": 42,
     "metadata": {},
     "output_type": "execute_result"
    }
   ],
   "source": [
    "type(x)"
   ]
  },
  {
   "cell_type": "code",
   "execution_count": 44,
   "metadata": {
    "collapsed": false
   },
   "outputs": [
    {
     "name": "stdout",
     "output_type": "stream",
     "text": [
      "x= 4 et a= 4\n"
     ]
    }
   ],
   "source": [
    "print('x=',x, 'et a=',a)"
   ]
  },
  {
   "cell_type": "code",
   "execution_count": 45,
   "metadata": {
    "collapsed": false
   },
   "outputs": [
    {
     "name": "stdout",
     "output_type": "stream",
     "text": [
      "hello world!\n"
     ]
    }
   ],
   "source": [
    "print('hello world!')"
   ]
  },
  {
   "cell_type": "code",
   "execution_count": 48,
   "metadata": {
    "collapsed": false
   },
   "outputs": [
    {
     "name": "stdout",
     "output_type": "stream",
     "text": [
      "a est supérieur à 0.\n"
     ]
    }
   ],
   "source": [
    " if a > 0: # Si a est supérieur à 0\n",
    "...     print(\"a est supérieur à 0.\")"
   ]
  },
  {
   "cell_type": "code",
   "execution_count": 53,
   "metadata": {
    "collapsed": false
   },
   "outputs": [
    {
     "name": "stdout",
     "output_type": "stream",
     "text": [
      "a est supérieur à 0.\n"
     ]
    }
   ],
   "source": [
    "if a > 0: \n",
    "...  print(\"a est supérieur à 0.\") #... and blank all works"
   ]
  },
  {
   "cell_type": "code",
   "execution_count": 57,
   "metadata": {
    "collapsed": false
   },
   "outputs": [
    {
     "name": "stdout",
     "output_type": "stream",
     "text": [
      "a = 5 et b = 9\n"
     ]
    }
   ],
   "source": [
    "a = 5\n",
    "b = 8\n",
    "if a > 0:\n",
    "    b += 1 \n",
    "    print(\"a =\",a,\"et b =\",b)"
   ]
  },
  {
   "cell_type": "code",
   "execution_count": 58,
   "metadata": {
    "collapsed": false
   },
   "outputs": [
    {
     "name": "stdout",
     "output_type": "stream",
     "text": [
      "a est positif.\n"
     ]
    }
   ],
   "source": [
    "if a > 0: # Si a est positif\n",
    "...    print(\"a est positif.\")\n",
    "... if a < 0: # a est négatif\n",
    "...    print(\"a est négatif.\")"
   ]
  },
  {
   "cell_type": "code",
   "execution_count": 59,
   "metadata": {
    "collapsed": true
   },
   "outputs": [],
   "source": [
    "a=-1"
   ]
  },
  {
   "cell_type": "code",
   "execution_count": 60,
   "metadata": {
    "collapsed": false
   },
   "outputs": [
    {
     "name": "stdout",
     "output_type": "stream",
     "text": [
      "a est négatif.\n"
     ]
    }
   ],
   "source": [
    "if a > 0: # Si a est positif\n",
    "...    print(\"a est positif.\")\n",
    "... if a < 0: # a est négatif\n",
    "...    print(\"a est négatif.\")"
   ]
  },
  {
   "cell_type": "code",
   "execution_count": 61,
   "metadata": {
    "collapsed": true
   },
   "outputs": [],
   "source": [
    "a=0"
   ]
  },
  {
   "cell_type": "code",
   "execution_count": 62,
   "metadata": {
    "collapsed": true
   },
   "outputs": [],
   "source": [
    "if a > 0: # Si a est positif\n",
    "...    print(\"a est positif.\")\n",
    "... if a < 0: # a est négatif\n",
    "...    print(\"a est négatif.\")"
   ]
  },
  {
   "cell_type": "code",
   "execution_count": 63,
   "metadata": {
    "collapsed": true
   },
   "outputs": [],
   "source": [
    "age = 21"
   ]
  },
  {
   "cell_type": "code",
   "execution_count": 64,
   "metadata": {
    "collapsed": false
   },
   "outputs": [
    {
     "name": "stdout",
     "output_type": "stream",
     "text": [
      "Vous êtes majeur.\n"
     ]
    }
   ],
   "source": [
    "if age >= 18: # Si age est supérieur ou égal à 18\n",
    "...    print(\"Vous êtes majeur.\")\n",
    "... else: # Sinon (age inférieur à 18)\n",
    "...    print(\"Vous êtes mineur.\")"
   ]
  },
  {
   "cell_type": "code",
   "execution_count": 65,
   "metadata": {
    "collapsed": false
   },
   "outputs": [
    {
     "name": "stdout",
     "output_type": "stream",
     "text": [
      "Vous êtes majeur.\n",
      "Vous êtes majeur+.\n"
     ]
    }
   ],
   "source": [
    "if age >= 18: # Si age est supérieur ou égal à 18\n",
    "...    print(\"Vous êtes majeur.\")\n",
    "... if age >= 20: # Sinon (age inférieur à 18)\n",
    "...    print(\"Vous êtes majeur+.\")"
   ]
  },
  {
   "cell_type": "code",
   "execution_count": 66,
   "metadata": {
    "collapsed": false
   },
   "outputs": [
    {
     "name": "stdout",
     "output_type": "stream",
     "text": [
      "a est nul.\n"
     ]
    }
   ],
   "source": [
    "if a > 0: # Positif\n",
    "...     print(\"a est positif.\")\n",
    "... elif a < 0: # Négatif\n",
    "...     print(\"a est négatif.\")\n",
    "... else: # Nul\n",
    "        print(\"a est nul.\")"
   ]
  },
  {
   "cell_type": "code",
   "execution_count": 67,
   "metadata": {
    "collapsed": false
   },
   "outputs": [
    {
     "data": {
      "text/plain": [
       "False"
      ]
     },
     "execution_count": 67,
     "metadata": {},
     "output_type": "execute_result"
    }
   ],
   "source": [
    "a==5"
   ]
  },
  {
   "cell_type": "code",
   "execution_count": 68,
   "metadata": {
    "collapsed": true
   },
   "outputs": [],
   "source": [
    "majeur = False\n",
    "if age >= 18:\n",
    "     majeur = True"
   ]
  },
  {
   "cell_type": "code",
   "execution_count": 69,
   "metadata": {
    "collapsed": false
   },
   "outputs": [
    {
     "data": {
      "text/plain": [
       "True"
      ]
     },
     "execution_count": 69,
     "metadata": {},
     "output_type": "execute_result"
    }
   ],
   "source": [
    "majeur "
   ]
  },
  {
   "cell_type": "code",
   "execution_count": 76,
   "metadata": {
    "collapsed": false
   },
   "outputs": [],
   "source": [
    "majeur = False\n",
    "if age >= 18:\n",
    "     majeur = True"
   ]
  },
  {
   "cell_type": "code",
   "execution_count": 77,
   "metadata": {
    "collapsed": false
   },
   "outputs": [
    {
     "data": {
      "text/plain": [
       "True"
      ]
     },
     "execution_count": 77,
     "metadata": {},
     "output_type": "execute_result"
    }
   ],
   "source": [
    "majeur"
   ]
  },
  {
   "cell_type": "code",
   "execution_count": 78,
   "metadata": {
    "collapsed": true
   },
   "outputs": [],
   "source": [
    "# On fait un test pour savoir si a est comprise dans l'intervalle allant de 2 à 8 inclus\n",
    "a = 5"
   ]
  },
  {
   "cell_type": "code",
   "execution_count": 79,
   "metadata": {
    "collapsed": false
   },
   "outputs": [
    {
     "name": "stdout",
     "output_type": "stream",
     "text": [
      "a est dans l'intervalle.\n"
     ]
    }
   ],
   "source": [
    "if a >= 2:\n",
    "    if a <= 8:\n",
    "        print(\"a est dans l'intervalle.\")\n",
    "    else:\n",
    "        print(\"a n'est pas dans l'intervalle.\")\n",
    "else:\n",
    "    print(\"a n'est pas dans l'intervalle.\")"
   ]
  },
  {
   "cell_type": "code",
   "execution_count": 80,
   "metadata": {
    "collapsed": false
   },
   "outputs": [
    {
     "name": "stdout",
     "output_type": "stream",
     "text": [
      "a est dans l'intervalle.\n"
     ]
    }
   ],
   "source": [
    "if a>=2 and a<=8:\n",
    "    print(\"a est dans l'intervalle.\")\n",
    "else:\n",
    "    print(\"a n'est pas dans l'intervalle.\")"
   ]
  },
  {
   "cell_type": "code",
   "execution_count": 81,
   "metadata": {
    "collapsed": false
   },
   "outputs": [
    {
     "name": "stdout",
     "output_type": "stream",
     "text": [
      "a est dans l'intervalle.\n"
     ]
    }
   ],
   "source": [
    "if a<2 or a>8:\n",
    "    print(\"a n'est pas dans l'intervalle.\")\n",
    "else:\n",
    "    print(\"a est dans l'intervalle.\")"
   ]
  },
  {
   "cell_type": "code",
   "execution_count": 82,
   "metadata": {
    "collapsed": true
   },
   "outputs": [],
   "source": [
    " if majeur is not True:\n",
    "...     print(\"Vous n'êtes pas encore majeur.\")"
   ]
  },
  {
   "cell_type": "code",
   "execution_count": 83,
   "metadata": {
    "collapsed": false
   },
   "outputs": [
    {
     "name": "stdout",
     "output_type": "stream",
     "text": [
      "Vous n'êtes pas encore majeur.\n"
     ]
    }
   ],
   "source": [
    " if majeur is True:\n",
    "...     print(\"Vous n'êtes pas encore majeur.\")"
   ]
  },
  {
   "cell_type": "code",
   "execution_count": 84,
   "metadata": {
    "collapsed": false
   },
   "outputs": [
    {
     "name": "stdout",
     "output_type": "stream",
     "text": [
      "Vous n'êtes pas encore majeur.\n"
     ]
    }
   ],
   "source": [
    "if majeur == True:\n",
    "...     print(\"Vous n'êtes pas encore majeur.\")"
   ]
  },
  {
   "cell_type": "code",
   "execution_count": 10,
   "metadata": {
    "collapsed": false
   },
   "outputs": [],
   "source": [
    "annee = '2580'"
   ]
  },
  {
   "cell_type": "code",
   "execution_count": 2,
   "metadata": {
    "collapsed": false
   },
   "outputs": [
    {
     "data": {
      "text/plain": [
       "'2009'"
      ]
     },
     "execution_count": 2,
     "metadata": {},
     "output_type": "execute_result"
    }
   ],
   "source": [
    "annee"
   ]
  },
  {
   "cell_type": "code",
   "execution_count": 11,
   "metadata": {
    "collapsed": true
   },
   "outputs": [],
   "source": [
    "annee=int(annee)"
   ]
  },
  {
   "cell_type": "code",
   "execution_count": 4,
   "metadata": {
    "collapsed": false
   },
   "outputs": [
    {
     "data": {
      "text/plain": [
       "2009"
      ]
     },
     "execution_count": 4,
     "metadata": {},
     "output_type": "execute_result"
    }
   ],
   "source": [
    "annee"
   ]
  },
  {
   "cell_type": "code",
   "execution_count": 12,
   "metadata": {
    "collapsed": false
   },
   "outputs": [
    {
     "name": "stdout",
     "output_type": "stream",
     "text": [
      "L'année saisie est bissextile\n"
     ]
    }
   ],
   "source": [
    "if annee%400==0 or (annee%4==0 and annee%100!=0):\n",
    "    print(\"L'année saisie est bissextile\")\n",
    "else:\n",
    "    print(\"L'année saisie n'est pas bissextile\")"
   ]
  },
  {
   "cell_type": "code",
   "execution_count": 1,
   "metadata": {
    "collapsed": false
   },
   "outputs": [
    {
     "name": "stdout",
     "output_type": "stream",
     "text": [
      " 1 * 7 = 7\n",
      " 2 * 7 = 14\n",
      " 3 * 7 = 21\n"
     ]
    }
   ],
   "source": [
    "print(\" 1 * 7 =\", 1 * 7)\n",
    "print(\" 2 * 7 =\", 2 * 7)\n",
    "print(\" 3 * 7 =\", 3 * 7)"
   ]
  },
  {
   "cell_type": "code",
   "execution_count": 2,
   "metadata": {
    "collapsed": false
   },
   "outputs": [
    {
     "name": "stdout",
     "output_type": "stream",
     "text": [
      " 1 * 7 = 7\n",
      " 2 * 7 = 14\n",
      " 3 * 7 = 21\n"
     ]
    }
   ],
   "source": [
    "nb = 7\n",
    "print(\" 1 *\", nb, \"=\", 1 * nb)\n",
    "print(\" 2 *\", nb, \"=\", 2 * nb)\n",
    "print(\" 3 *\", nb, \"=\", 3 * nb)"
   ]
  },
  {
   "cell_type": "code",
   "execution_count": 6,
   "metadata": {
    "collapsed": false
   },
   "outputs": [
    {
     "name": "stdout",
     "output_type": "stream",
     "text": [
      "1 * 7 = \n",
      " 7\n",
      "2 * 7 = \n",
      " 14\n",
      "3 * 7 = \n",
      " 21\n"
     ]
    }
   ],
   "source": [
    "nb = 7 # On garde la variable contenant le nombre dont on veut la table de multiplication\n",
    "i = 0 # C'est notre variable compteur que nous allons incrémenter dans la boucle\n",
    "\n",
    "while i < 3: # Tant que i est strictement inférieure à 10\n",
    "    print(i + 1, \"*\", nb, \"=\", \"\\n\",(i + 1) * nb)\n",
    "    i += 1 # On incrémente i de 1 à chaque tour de boucle"
   ]
  },
  {
   "cell_type": "markdown",
   "metadata": {},
   "source": [
    "N'oubliez pas d'incrémenteri! Sinon, vous créez ce qu'on appelle une boucle infinie, puisque la valeur dein'est jamais supérieure à 10 et la condition duwhile, par conséquent, toujours vraie… La boucle s'exécute donc à l'infini, du moins en théorie. Si votre ordinateur se lance dans une boucle infinie à cause de votre programme, pour interrompre la boucle, vous devrez taper CTRL + C dans la fenêtre de l'interpréteur (sous Windows ou Linux). Python ne le fera pas tout seul car, pour lui, il se passe bel et bien quelque chose. De toute façon, il est incapable de différencier une boucle infinie d'une boucle finie : c'est au programmeur de le faire."
   ]
  },
  {
   "cell_type": "markdown",
   "metadata": {},
   "source": [
    "for element in sequence:\n",
    "elementest une variable créée par lefor, ce n'est pas à vous de l'instancier. Elle prend successivement chacune des valeurs figurant dans la séquence parcourue."
   ]
  },
  {
   "cell_type": "code",
   "execution_count": 7,
   "metadata": {
    "collapsed": false
   },
   "outputs": [
    {
     "name": "stdout",
     "output_type": "stream",
     "text": [
      "B\n",
      "o\n",
      "n\n",
      "j\n",
      "o\n",
      "u\n",
      "r\n",
      " \n",
      "l\n",
      "e\n",
      "s\n",
      " \n",
      "Z\n",
      "E\n",
      "R\n",
      "0\n",
      "S\n"
     ]
    }
   ],
   "source": [
    "chaine = \"Bonjour les ZER0S\"\n",
    "for lettre in chaine:\n",
    "    print(lettre)"
   ]
  },
  {
   "cell_type": "code",
   "execution_count": 8,
   "metadata": {
    "collapsed": false
   },
   "outputs": [
    {
     "name": "stdout",
     "output_type": "stream",
     "text": [
      "*\n",
      "o\n",
      "*\n",
      "*\n",
      "o\n",
      "u\n",
      "*\n",
      "*\n",
      "*\n",
      "e\n",
      "*\n",
      "*\n",
      "*\n",
      "E\n",
      "*\n",
      "*\n",
      "*\n"
     ]
    }
   ],
   "source": [
    "chaine = \"Bonjour les ZER0S\"\n",
    "for lettre in chaine:\n",
    "    if lettre in \"AEIOUYaeiouy\": # lettre est une voyelle\n",
    "        print(lettre)\n",
    "    else: # lettre est une consonne... ou plus exactement, lettre n'est pas une voyelle\n",
    "        print(\"*\")"
   ]
  },
  {
   "cell_type": "code",
   "execution_count": 9,
   "metadata": {
    "collapsed": false
   },
   "outputs": [
    {
     "name": "stdout",
     "output_type": "stream",
     "text": [
      "Tapez 'Q' pour quitter : Q\n",
      "Fin de la boucle\n"
     ]
    }
   ],
   "source": [
    "while 1: # 1 est toujours vrai -> boucle infinie\n",
    "    lettre = input(\"Tapez 'Q' pour quitter : \")\n",
    "    if lettre == \"Q\":\n",
    "        print(\"Fin de la boucle\")\n",
    "        break"
   ]
  },
  {
   "cell_type": "code",
   "execution_count": 10,
   "metadata": {
    "collapsed": false
   },
   "outputs": [
    {
     "name": "stdout",
     "output_type": "stream",
     "text": [
      "Tapez 'Q' pour quitter : J\n",
      "Tapez 'Q' pour quitter : Q\n",
      "Fin de la boucle\n"
     ]
    }
   ],
   "source": [
    "while 1: # 1 est toujours vrai -> boucle infinie\n",
    "    lettre = input(\"Tapez 'Q' pour quitter : \")\n",
    "    if lettre == \"Q\":\n",
    "        print(\"Fin de la boucle\")\n",
    "        break"
   ]
  },
  {
   "cell_type": "code",
   "execution_count": 11,
   "metadata": {
    "collapsed": false
   },
   "outputs": [
    {
     "name": "stdout",
     "output_type": "stream",
     "text": [
      "La variable i = 1\n",
      "La variable i = 2\n",
      "On incrémente i de 4. i est maintenant égale à 7\n",
      "La variable i = 7\n",
      "La variable i = 8\n",
      "On incrémente i de 4. i est maintenant égale à 13\n",
      "La variable i = 13\n",
      "La variable i = 14\n",
      "On incrémente i de 4. i est maintenant égale à 19\n",
      "La variable i = 19\n"
     ]
    }
   ],
   "source": [
    "i = 1\n",
    "while i < 20: # Tant que i est inférieure à 20\n",
    "    if i % 3 == 0:\n",
    "        i += 4 # On ajoute 4 à i\n",
    "        print(\"On incrémente i de 4. i est maintenant égale à\", i)\n",
    "        continue # On retourne au while sans exécuter les autres lignes\n",
    "    print(\"La variable i =\", i)\n",
    "    i += 1 # Dans le cas classique on ajoute juste 1 à i"
   ]
  },
  {
   "cell_type": "code",
   "execution_count": 12,
   "metadata": {
    "collapsed": false
   },
   "outputs": [
    {
     "name": "stdout",
     "output_type": "stream",
     "text": [
      "La variable i = 1\n",
      "La variable i = 2\n",
      "On incrémente i de 4. i est maintenant égale à 7\n",
      "La variable i = 7\n",
      "La variable i = 8\n",
      "On incrémente i de 4. i est maintenant égale à 13\n",
      "La variable i = 13\n",
      "La variable i = 14\n",
      "On incrémente i de 4. i est maintenant égale à 19\n",
      "La variable i = 19\n"
     ]
    }
   ],
   "source": [
    "i = 1\n",
    "while i < 20: # Tant que i est inférieure à 20\n",
    "    if i % 3 == 0:\n",
    "        i += 4 # On ajoute 4 à i\n",
    "        print(\"On incrémente i de 4. i est maintenant égale à\", i)\n",
    "    print(\"La variable i =\", i)\n",
    "    i += 1 # Dans le cas classique on ajoute juste 1 à i"
   ]
  },
  {
   "cell_type": "code",
   "execution_count": 14,
   "metadata": {
    "collapsed": false
   },
   "outputs": [
    {
     "name": "stdout",
     "output_type": "stream",
     "text": [
      "La variable i = 1\n",
      "La variable i = 2\n",
      "On incrémente i de 4. i est maintenant égale à 7\n",
      "La variable i = 7\n",
      "La variable i = 8\n",
      "On incrémente i de 4. i est maintenant égale à 13\n",
      "La variable i = 13\n",
      "La variable i = 14\n",
      "On incrémente i de 4. i est maintenant égale à 19\n",
      "La variable i = 19\n"
     ]
    }
   ],
   "source": [
    "i = 1\n",
    "while i < 20: # Tant que i est inférieure à 20\n",
    "    if i % 3 == 0:\n",
    "        i += 4 # On ajoute 4 à i\n",
    "        print(\"On incrémente i de 4. i est maintenant égale à\", i)\n",
    "    else:\n",
    "        print(\"La variable i =\", i)\n",
    "        i += 1 # Dans le cas classique on ajoute juste 1 à i"
   ]
  },
  {
   "cell_type": "code",
   "execution_count": 17,
   "metadata": {
    "collapsed": false
   },
   "outputs": [
    {
     "name": "stdout",
     "output_type": "stream",
     "text": [
      "La variable i = 1\n",
      "La variable i = 2\n",
      "On incrémente i de 4. i est maintenant égale à 7\n",
      "La variable i = 8\n",
      "On incrémente i de 4. i est maintenant égale à 13\n",
      "La variable i = 14\n",
      "On incrémente i de 4. i est maintenant égale à 19\n"
     ]
    }
   ],
   "source": [
    "i = 1\n",
    "while i < 20: # Tant que i est inférieure à 20\n",
    "    if i % 3 == 0:\n",
    "        i += 4 # On ajoute 4 à i\n",
    "        print(\"On incrémente i de 4. i est maintenant égale à\", i)\n",
    "    else:\n",
    "        print(\"La variable i =\", i)\n",
    "    i += 1 # Dans le cas classique on ajoute juste 1 à i"
   ]
  },
  {
   "cell_type": "code",
   "execution_count": 18,
   "metadata": {
    "collapsed": false
   },
   "outputs": [
    {
     "name": "stdout",
     "output_type": "stream",
     "text": [
      "La variable i = 1\n",
      "La variable i = 2\n",
      "On incrémente i de 4. i est maintenant égale à 7\n",
      "La variable i = 7\n",
      "La variable i = 8\n",
      "On incrémente i de 4. i est maintenant égale à 13\n",
      "La variable i = 13\n",
      "La variable i = 14\n",
      "On incrémente i de 4. i est maintenant égale à 19\n",
      "La variable i = 19\n"
     ]
    }
   ],
   "source": [
    "i = 1\n",
    "while i < 20: # Tant que i est inférieure à 20\n",
    "    if i % 3 == 0:\n",
    "        i += 4 # On ajoute 4 à i\n",
    "        print(\"On incrémente i de 4. i est maintenant égale à\", i)\n",
    "        continue\n",
    "    else:\n",
    "        print(\"La variable i =\", i)\n",
    "    i += 1 # Dans le cas classique on ajoute juste 1 à i"
   ]
  },
  {
   "cell_type": "markdown",
   "metadata": {},
   "source": [
    "in[17] and in[18] reflects the difference of continue and no continue, with continue we don't execute i+=1 if it's not included in the condition syntax"
   ]
  },
  {
   "cell_type": "code",
   "execution_count": 5,
   "metadata": {
    "collapsed": true
   },
   "outputs": [],
   "source": [
    "def table_par_7():\n",
    "    nb = 7\n",
    "    i = 0 # Notre compteur ! L'auriez-vous oublié ?\n",
    "    while i < 3: # Tant que i est strictement inférieure à 10,\n",
    "        print(i + 1, \"*\", nb, \"=\", (i + 1) * nb)\n",
    "        i += 1 # On incrémente i de 1 à chaque tour de boucle."
   ]
  },
  {
   "cell_type": "code",
   "execution_count": 6,
   "metadata": {
    "collapsed": false
   },
   "outputs": [
    {
     "name": "stdout",
     "output_type": "stream",
     "text": [
      "1 * 7 = 7\n",
      "2 * 7 = 14\n",
      "3 * 7 = 21\n"
     ]
    }
   ],
   "source": [
    "table_par_7()"
   ]
  },
  {
   "cell_type": "code",
   "execution_count": 13,
   "metadata": {
    "collapsed": true
   },
   "outputs": [],
   "source": [
    "def table(nb, max=10):\n",
    "    \"Fonction affichant la table de multiplication par nb \\\n",
    "    de 1*nb à max*nb \\\n",
    "    (max >= 0)\"\n",
    "    i = 0\n",
    "    while i < max: # Tant que i est strictement inférieure à la variable max,\n",
    "        print(i + 1, \"*\", nb, \"=\", (i + 1) * nb)\n",
    "        i += 1"
   ]
  },
  {
   "cell_type": "code",
   "execution_count": 14,
   "metadata": {
    "collapsed": false
   },
   "outputs": [
    {
     "name": "stdout",
     "output_type": "stream",
     "text": [
      "1 * 7 = 7\n",
      "2 * 7 = 14\n",
      "3 * 7 = 21\n"
     ]
    }
   ],
   "source": [
    "table(7,3)"
   ]
  },
  {
   "cell_type": "code",
   "execution_count": 11,
   "metadata": {
    "collapsed": false
   },
   "outputs": [
    {
     "name": "stdout",
     "output_type": "stream",
     "text": [
      "1 * 7 = 7\n",
      "2 * 7 = 14\n",
      "3 * 7 = 21\n",
      "4 * 7 = 28\n",
      "5 * 7 = 35\n",
      "6 * 7 = 42\n",
      "7 * 7 = 49\n",
      "8 * 7 = 56\n",
      "9 * 7 = 63\n",
      "10 * 7 = 70\n"
     ]
    }
   ],
   "source": [
    "table(7,)"
   ]
  },
  {
   "cell_type": "code",
   "execution_count": 12,
   "metadata": {
    "collapsed": false
   },
   "outputs": [
    {
     "name": "stdout",
     "output_type": "stream",
     "text": [
      "1 * 7 = 7\n",
      "2 * 7 = 14\n",
      "3 * 7 = 21\n",
      "4 * 7 = 28\n",
      "5 * 7 = 35\n",
      "6 * 7 = 42\n",
      "7 * 7 = 49\n",
      "8 * 7 = 56\n",
      "9 * 7 = 63\n",
      "10 * 7 = 70\n"
     ]
    }
   ],
   "source": [
    "table(7)"
   ]
  },
  {
   "cell_type": "code",
   "execution_count": 15,
   "metadata": {
    "collapsed": false
   },
   "outputs": [
    {
     "name": "stdout",
     "output_type": "stream",
     "text": [
      "Help on function table in module __main__:\n",
      "\n",
      "table(nb, max=10)\n",
      "    Fonction affichant la table de multiplication par nb     de 1*nb à max*nb     (max >= 0)\n",
      "\n"
     ]
    }
   ],
   "source": [
    "help(table)"
   ]
  },
  {
   "cell_type": "code",
   "execution_count": 16,
   "metadata": {
    "collapsed": true
   },
   "outputs": [],
   "source": [
    "def table(nb, max=10):\n",
    "    \"\"\"Fonction affichant la table de multiplication par nb \\\n",
    "    de 1*nb à max*nb \\\n",
    "    (max >= 0)\"\"\"\n",
    "    i = 0\n",
    "    while i < max: # Tant que i est strictement inférieure à la variable max,\n",
    "        print(i + 1, \"*\", nb, \"=\", (i + 1) * nb)\n",
    "        i += 1"
   ]
  },
  {
   "cell_type": "code",
   "execution_count": 17,
   "metadata": {
    "collapsed": false
   },
   "outputs": [
    {
     "name": "stdout",
     "output_type": "stream",
     "text": [
      "Help on function table in module __main__:\n",
      "\n",
      "table(nb, max=10)\n",
      "    Fonction affichant la table de multiplication par nb     de 1*nb à max*nb     (max >= 0)\n",
      "\n"
     ]
    }
   ],
   "source": [
    "help(table)"
   ]
  },
  {
   "cell_type": "code",
   "execution_count": 18,
   "metadata": {
    "collapsed": true
   },
   "outputs": [],
   "source": [
    "def exemple():\n",
    "    print(\"Un exemple d'une fonction sans paramètre\")"
   ]
  },
  {
   "cell_type": "code",
   "execution_count": 19,
   "metadata": {
    "collapsed": false
   },
   "outputs": [
    {
     "name": "stdout",
     "output_type": "stream",
     "text": [
      "Un exemple d'une fonction sans paramètre\n"
     ]
    }
   ],
   "source": [
    "exemple()"
   ]
  },
  {
   "cell_type": "code",
   "execution_count": 20,
   "metadata": {
    "collapsed": true
   },
   "outputs": [],
   "source": [
    "def exemple(): # On redéfinit la fonction exemple\n",
    "    print(\"Un autre exemple de fonction sans paramètre\")"
   ]
  },
  {
   "cell_type": "code",
   "execution_count": 21,
   "metadata": {
    "collapsed": false
   },
   "outputs": [
    {
     "name": "stdout",
     "output_type": "stream",
     "text": [
      "Un autre exemple de fonction sans paramètre\n"
     ]
    }
   ],
   "source": [
    "exemple()"
   ]
  },
  {
   "cell_type": "code",
   "execution_count": 22,
   "metadata": {
    "collapsed": true
   },
   "outputs": [],
   "source": [
    "def carre(valeur):\n",
    "    return valeur * valeur"
   ]
  },
  {
   "cell_type": "code",
   "execution_count": 24,
   "metadata": {
    "collapsed": false
   },
   "outputs": [],
   "source": [
    "variable=carre(5)"
   ]
  },
  {
   "cell_type": "code",
   "execution_count": 25,
   "metadata": {
    "collapsed": false
   },
   "outputs": [
    {
     "data": {
      "text/plain": [
       "25"
      ]
     },
     "execution_count": 25,
     "metadata": {},
     "output_type": "execute_result"
    }
   ],
   "source": [
    "variable"
   ]
  },
  {
   "cell_type": "code",
   "execution_count": 27,
   "metadata": {
    "collapsed": false
   },
   "outputs": [
    {
     "data": {
      "text/plain": [
       "<function __main__.<lambda>>"
      ]
     },
     "execution_count": 27,
     "metadata": {},
     "output_type": "execute_result"
    }
   ],
   "source": [
    " lambda x,y: x * y"
   ]
  },
  {
   "cell_type": "code",
   "execution_count": 28,
   "metadata": {
    "collapsed": true
   },
   "outputs": [],
   "source": [
    "f=lambda x,y: x * y"
   ]
  },
  {
   "cell_type": "code",
   "execution_count": 29,
   "metadata": {
    "collapsed": false
   },
   "outputs": [
    {
     "data": {
      "text/plain": [
       "-126"
      ]
     },
     "execution_count": 29,
     "metadata": {},
     "output_type": "execute_result"
    }
   ],
   "source": [
    "f(-18,7)"
   ]
  },
  {
   "cell_type": "code",
   "execution_count": 30,
   "metadata": {
    "collapsed": true
   },
   "outputs": [],
   "source": [
    "import math"
   ]
  },
  {
   "cell_type": "code",
   "execution_count": 31,
   "metadata": {
    "collapsed": false
   },
   "outputs": [
    {
     "data": {
      "text/plain": [
       "5.0"
      ]
     },
     "execution_count": 31,
     "metadata": {},
     "output_type": "execute_result"
    }
   ],
   "source": [
    "math.sqrt(25)"
   ]
  },
  {
   "cell_type": "code",
   "execution_count": 32,
   "metadata": {
    "collapsed": false
   },
   "outputs": [
    {
     "name": "stdout",
     "output_type": "stream",
     "text": [
      "Help on built-in function sqrt in module math:\n",
      "\n",
      "sqrt(...)\n",
      "    sqrt(x)\n",
      "    \n",
      "    Return the square root of x.\n",
      "\n"
     ]
    }
   ],
   "source": [
    "help(math.sqrt)"
   ]
  },
  {
   "cell_type": "code",
   "execution_count": 33,
   "metadata": {
    "collapsed": false
   },
   "outputs": [
    {
     "name": "stdout",
     "output_type": "stream",
     "text": [
      "Help on built-in module math:\n",
      "\n",
      "NAME\n",
      "    math\n",
      "\n",
      "DESCRIPTION\n",
      "    This module is always available.  It provides access to the\n",
      "    mathematical functions defined by the C standard.\n",
      "\n",
      "FUNCTIONS\n",
      "    acos(...)\n",
      "        acos(x)\n",
      "        \n",
      "        Return the arc cosine (measured in radians) of x.\n",
      "    \n",
      "    acosh(...)\n",
      "        acosh(x)\n",
      "        \n",
      "        Return the inverse hyperbolic cosine of x.\n",
      "    \n",
      "    asin(...)\n",
      "        asin(x)\n",
      "        \n",
      "        Return the arc sine (measured in radians) of x.\n",
      "    \n",
      "    asinh(...)\n",
      "        asinh(x)\n",
      "        \n",
      "        Return the inverse hyperbolic sine of x.\n",
      "    \n",
      "    atan(...)\n",
      "        atan(x)\n",
      "        \n",
      "        Return the arc tangent (measured in radians) of x.\n",
      "    \n",
      "    atan2(...)\n",
      "        atan2(y, x)\n",
      "        \n",
      "        Return the arc tangent (measured in radians) of y/x.\n",
      "        Unlike atan(y/x), the signs of both x and y are considered.\n",
      "    \n",
      "    atanh(...)\n",
      "        atanh(x)\n",
      "        \n",
      "        Return the inverse hyperbolic tangent of x.\n",
      "    \n",
      "    ceil(...)\n",
      "        ceil(x)\n",
      "        \n",
      "        Return the ceiling of x as an Integral.\n",
      "        This is the smallest integer >= x.\n",
      "    \n",
      "    copysign(...)\n",
      "        copysign(x, y)\n",
      "        \n",
      "        Return a float with the magnitude (absolute value) of x but the sign \n",
      "        of y. On platforms that support signed zeros, copysign(1.0, -0.0) \n",
      "        returns -1.0.\n",
      "    \n",
      "    cos(...)\n",
      "        cos(x)\n",
      "        \n",
      "        Return the cosine of x (measured in radians).\n",
      "    \n",
      "    cosh(...)\n",
      "        cosh(x)\n",
      "        \n",
      "        Return the hyperbolic cosine of x.\n",
      "    \n",
      "    degrees(...)\n",
      "        degrees(x)\n",
      "        \n",
      "        Convert angle x from radians to degrees.\n",
      "    \n",
      "    erf(...)\n",
      "        erf(x)\n",
      "        \n",
      "        Error function at x.\n",
      "    \n",
      "    erfc(...)\n",
      "        erfc(x)\n",
      "        \n",
      "        Complementary error function at x.\n",
      "    \n",
      "    exp(...)\n",
      "        exp(x)\n",
      "        \n",
      "        Return e raised to the power of x.\n",
      "    \n",
      "    expm1(...)\n",
      "        expm1(x)\n",
      "        \n",
      "        Return exp(x)-1.\n",
      "        This function avoids the loss of precision involved in the direct evaluation of exp(x)-1 for small x.\n",
      "    \n",
      "    fabs(...)\n",
      "        fabs(x)\n",
      "        \n",
      "        Return the absolute value of the float x.\n",
      "    \n",
      "    factorial(...)\n",
      "        factorial(x) -> Integral\n",
      "        \n",
      "        Find x!. Raise a ValueError if x is negative or non-integral.\n",
      "    \n",
      "    floor(...)\n",
      "        floor(x)\n",
      "        \n",
      "        Return the floor of x as an Integral.\n",
      "        This is the largest integer <= x.\n",
      "    \n",
      "    fmod(...)\n",
      "        fmod(x, y)\n",
      "        \n",
      "        Return fmod(x, y), according to platform C.  x % y may differ.\n",
      "    \n",
      "    frexp(...)\n",
      "        frexp(x)\n",
      "        \n",
      "        Return the mantissa and exponent of x, as pair (m, e).\n",
      "        m is a float and e is an int, such that x = m * 2.**e.\n",
      "        If x is 0, m and e are both 0.  Else 0.5 <= abs(m) < 1.0.\n",
      "    \n",
      "    fsum(...)\n",
      "        fsum(iterable)\n",
      "        \n",
      "        Return an accurate floating point sum of values in the iterable.\n",
      "        Assumes IEEE-754 floating point arithmetic.\n",
      "    \n",
      "    gamma(...)\n",
      "        gamma(x)\n",
      "        \n",
      "        Gamma function at x.\n",
      "    \n",
      "    gcd(...)\n",
      "        gcd(x, y) -> int\n",
      "        greatest common divisor of x and y\n",
      "    \n",
      "    hypot(...)\n",
      "        hypot(x, y)\n",
      "        \n",
      "        Return the Euclidean distance, sqrt(x*x + y*y).\n",
      "    \n",
      "    isclose(...)\n",
      "        isclose(a, b, *, rel_tol=1e-09, abs_tol=0.0) -> bool\n",
      "        \n",
      "        Determine whether two floating point numbers are close in value.\n",
      "        \n",
      "           rel_tol\n",
      "               maximum difference for being considered \"close\", relative to the\n",
      "               magnitude of the input values\n",
      "            abs_tol\n",
      "               maximum difference for being considered \"close\", regardless of the\n",
      "               magnitude of the input values\n",
      "        \n",
      "        Return True if a is close in value to b, and False otherwise.\n",
      "        \n",
      "        For the values to be considered close, the difference between them\n",
      "        must be smaller than at least one of the tolerances.\n",
      "        \n",
      "        -inf, inf and NaN behave similarly to the IEEE 754 Standard.  That\n",
      "        is, NaN is not close to anything, even itself.  inf and -inf are\n",
      "        only close to themselves.\n",
      "    \n",
      "    isfinite(...)\n",
      "        isfinite(x) -> bool\n",
      "        \n",
      "        Return True if x is neither an infinity nor a NaN, and False otherwise.\n",
      "    \n",
      "    isinf(...)\n",
      "        isinf(x) -> bool\n",
      "        \n",
      "        Return True if x is a positive or negative infinity, and False otherwise.\n",
      "    \n",
      "    isnan(...)\n",
      "        isnan(x) -> bool\n",
      "        \n",
      "        Return True if x is a NaN (not a number), and False otherwise.\n",
      "    \n",
      "    ldexp(...)\n",
      "        ldexp(x, i)\n",
      "        \n",
      "        Return x * (2**i).\n",
      "    \n",
      "    lgamma(...)\n",
      "        lgamma(x)\n",
      "        \n",
      "        Natural logarithm of absolute value of Gamma function at x.\n",
      "    \n",
      "    log(...)\n",
      "        log(x[, base])\n",
      "        \n",
      "        Return the logarithm of x to the given base.\n",
      "        If the base not specified, returns the natural logarithm (base e) of x.\n",
      "    \n",
      "    log10(...)\n",
      "        log10(x)\n",
      "        \n",
      "        Return the base 10 logarithm of x.\n",
      "    \n",
      "    log1p(...)\n",
      "        log1p(x)\n",
      "        \n",
      "        Return the natural logarithm of 1+x (base e).\n",
      "        The result is computed in a way which is accurate for x near zero.\n",
      "    \n",
      "    log2(...)\n",
      "        log2(x)\n",
      "        \n",
      "        Return the base 2 logarithm of x.\n",
      "    \n",
      "    modf(...)\n",
      "        modf(x)\n",
      "        \n",
      "        Return the fractional and integer parts of x.  Both results carry the sign\n",
      "        of x and are floats.\n",
      "    \n",
      "    pow(...)\n",
      "        pow(x, y)\n",
      "        \n",
      "        Return x**y (x to the power of y).\n",
      "    \n",
      "    radians(...)\n",
      "        radians(x)\n",
      "        \n",
      "        Convert angle x from degrees to radians.\n",
      "    \n",
      "    sin(...)\n",
      "        sin(x)\n",
      "        \n",
      "        Return the sine of x (measured in radians).\n",
      "    \n",
      "    sinh(...)\n",
      "        sinh(x)\n",
      "        \n",
      "        Return the hyperbolic sine of x.\n",
      "    \n",
      "    sqrt(...)\n",
      "        sqrt(x)\n",
      "        \n",
      "        Return the square root of x.\n",
      "    \n",
      "    tan(...)\n",
      "        tan(x)\n",
      "        \n",
      "        Return the tangent of x (measured in radians).\n",
      "    \n",
      "    tanh(...)\n",
      "        tanh(x)\n",
      "        \n",
      "        Return the hyperbolic tangent of x.\n",
      "    \n",
      "    trunc(...)\n",
      "        trunc(x:Real) -> Integral\n",
      "        \n",
      "        Truncates x to the nearest Integral toward 0. Uses the __trunc__ magic method.\n",
      "\n",
      "DATA\n",
      "    e = 2.718281828459045\n",
      "    inf = inf\n",
      "    nan = nan\n",
      "    pi = 3.141592653589793\n",
      "    tau = 6.283185307179586\n",
      "\n",
      "FILE\n",
      "    (built-in)\n",
      "\n",
      "\n"
     ]
    }
   ],
   "source": [
    "help(math)"
   ]
  },
  {
   "cell_type": "code",
   "execution_count": 34,
   "metadata": {
    "collapsed": false
   },
   "outputs": [
    {
     "data": {
      "text/plain": [
       "5.0"
      ]
     },
     "execution_count": 34,
     "metadata": {},
     "output_type": "execute_result"
    }
   ],
   "source": [
    "import math as mathematiques\n",
    "mathematiques.sqrt(25)"
   ]
  },
  {
   "cell_type": "code",
   "execution_count": 35,
   "metadata": {
    "collapsed": true
   },
   "outputs": [],
   "source": [
    "from math import fabs"
   ]
  },
  {
   "cell_type": "code",
   "execution_count": 36,
   "metadata": {
    "collapsed": false
   },
   "outputs": [
    {
     "data": {
      "text/plain": [
       "1.0"
      ]
     },
     "execution_count": 36,
     "metadata": {},
     "output_type": "execute_result"
    }
   ],
   "source": [
    "fabs(-1)"
   ]
  },
  {
   "cell_type": "code",
   "execution_count": 37,
   "metadata": {
    "collapsed": true
   },
   "outputs": [],
   "source": [
    "from math import*"
   ]
  },
  {
   "cell_type": "code",
   "execution_count": 2,
   "metadata": {
    "collapsed": false
   },
   "outputs": [
    {
     "name": "stdout",
     "output_type": "stream",
     "text": [
      "1 * 3 = 3\n",
      "2 * 3 = 6\n",
      "3 * 3 = 9\n",
      "4 * 3 = 12\n",
      "5 * 3 = 15\n",
      "6 * 3 = 18\n",
      "7 * 3 = 21\n",
      "8 * 3 = 24\n",
      "9 * 3 = 27\n",
      "10 * 3 = 30\n",
      "11 * 3 = 33\n",
      "12 * 3 = 36\n",
      "13 * 3 = 39\n",
      "14 * 3 = 42\n",
      "15 * 3 = 45\n",
      "16 * 3 = 48\n",
      "17 * 3 = 51\n",
      "18 * 3 = 54\n",
      "19 * 3 = 57\n",
      "20 * 3 = 60\n"
     ]
    },
    {
     "data": {
      "text/plain": [
       "0"
      ]
     },
     "execution_count": 2,
     "metadata": {},
     "output_type": "execute_result"
    }
   ],
   "source": [
    "import os\n",
    "from multi import *\n",
    "\n",
    "# test de la fonction table\n",
    "table(3, 20)\n",
    "os.system(\"pause\")"
   ]
  },
  {
   "cell_type": "code",
   "execution_count": 4,
   "metadata": {
    "collapsed": false
   },
   "outputs": [
    {
     "name": "stdout",
     "output_type": "stream",
     "text": [
      "1 * 4 = 4\n",
      "2 * 4 = 8\n",
      "3 * 4 = 12\n",
      "4 * 4 = 16\n",
      "5 * 4 = 20\n",
      "6 * 4 = 24\n",
      "7 * 4 = 28\n",
      "8 * 4 = 32\n",
      "9 * 4 = 36\n",
      "10 * 4 = 40\n"
     ]
    }
   ],
   "source": [
    "\"\"\"module multipli contenant la fonction table\"\"\"\n",
    "\n",
    "import os\n",
    "\n",
    "def table(nb, max=10):\n",
    "    \"\"\"Fonction affichant la table de multiplication par nb de\n",
    "    1 * nb jusqu'à max * nb\"\"\"\n",
    "    i = 0\n",
    "    while i < max:\n",
    "        print(i + 1, \"*\", nb, \"=\", (i + 1) * nb)\n",
    "        i += 1\n",
    "\n",
    "# test de la fonction table\n",
    "if __name__ == \"__main__\":\n",
    "    table(4)\n",
    "    os.system(\"pause\")"
   ]
  },
  {
   "cell_type": "markdown",
   "metadata": {},
   "source": [
    "Voilà. À présent, si vous faites un double-clic directement sur le fichiermultipli.py, vous allez voir la table de multiplication par 4. En revanche, si vous l'importez, le code de test ne s'exécutera pas. Tout repose en fait sur la variable__name__, c'est une variable qui existe dès le lancement de l'interpréteur. Si elle vaut__main__, cela veut dire que le fichier appelé est le fichier exécuté. Autrement dit, si__name__vaut__main__, vous pouvez mettre un code qui sera exécuté si le fichier est lancé directement comme un exécutable.oilà. À présent, si vous faites un double-clic directement sur le fichiermultipli.py, vous allez voir la table de multiplication par 4. En revanche, si vous l'importez, le code de test ne s'exécutera pas. Tout repose en fait sur la variable__name__, c'est une variable qui existe dès le lancement de l'interpréteur. Si elle vaut__main__, cela veut dire que le fichier appelé est le fichier exécuté. Autrement dit, si__name__vaut__main__, vous pouvez mettre un code qui sera exécuté si le fichier est lancé directement comme un exécutable."
   ]
  },
  {
   "cell_type": "code",
   "execution_count": 1,
   "metadata": {
    "collapsed": false
   },
   "outputs": [
    {
     "ename": "ZeroDivisionError",
     "evalue": "division by zero",
     "output_type": "error",
     "traceback": [
      "\u001b[0;31m---------------------------------------------------------------------------\u001b[0m",
      "\u001b[0;31mZeroDivisionError\u001b[0m                         Traceback (most recent call last)",
      "\u001b[0;32m<ipython-input-1-356d0ed747d9>\u001b[0m in \u001b[0;36m<module>\u001b[0;34m()\u001b[0m\n\u001b[0;32m----> 1\u001b[0;31m \u001b[0mvariable\u001b[0m \u001b[1;33m=\u001b[0m \u001b[1;36m1\u001b[0m\u001b[1;33m/\u001b[0m\u001b[1;36m0\u001b[0m\u001b[1;33m\u001b[0m\u001b[0m\n\u001b[0m",
      "\u001b[0;31mZeroDivisionError\u001b[0m: division by zero"
     ]
    }
   ],
   "source": [
    " variable = 1/0"
   ]
  },
  {
   "cell_type": "code",
   "execution_count": 3,
   "metadata": {
    "collapsed": false
   },
   "outputs": [],
   "source": [
    "annee=\"a\""
   ]
  },
  {
   "cell_type": "code",
   "execution_count": 4,
   "metadata": {
    "collapsed": false
   },
   "outputs": [
    {
     "ename": "ValueError",
     "evalue": "invalid literal for int() with base 10: 'a'",
     "output_type": "error",
     "traceback": [
      "\u001b[0;31m---------------------------------------------------------------------------\u001b[0m",
      "\u001b[0;31mValueError\u001b[0m                                Traceback (most recent call last)",
      "\u001b[0;32m<ipython-input-4-4d9f52d0049e>\u001b[0m in \u001b[0;36m<module>\u001b[0;34m()\u001b[0m\n\u001b[0;32m----> 1\u001b[0;31m \u001b[0mannee\u001b[0m\u001b[1;33m=\u001b[0m\u001b[0mint\u001b[0m\u001b[1;33m(\u001b[0m\u001b[0mannee\u001b[0m\u001b[1;33m)\u001b[0m\u001b[1;33m\u001b[0m\u001b[0m\n\u001b[0m",
      "\u001b[0;31mValueError\u001b[0m: invalid literal for int() with base 10: 'a'"
     ]
    }
   ],
   "source": [
    "annee=int(annee)"
   ]
  },
  {
   "cell_type": "code",
   "execution_count": 5,
   "metadata": {
    "collapsed": false
   },
   "outputs": [
    {
     "name": "stdout",
     "output_type": "stream",
     "text": [
      "p\n",
      "Erreur lors de la conversion de l'année.\n"
     ]
    }
   ],
   "source": [
    "annee = input()\n",
    "try: # On essaye de convertir l'année en entier\n",
    "    annee = int(annee)\n",
    "except:\n",
    "    print(\"Erreur lors de la conversion de l'année.\")"
   ]
  },
  {
   "cell_type": "code",
   "execution_count": 9,
   "metadata": {
    "collapsed": false
   },
   "outputs": [
    {
     "name": "stdout",
     "output_type": "stream",
     "text": [
      "La variable numerateur ou denominateur n'a pas été définie.\n"
     ]
    }
   ],
   "source": [
    "try:\n",
    "    resultat = numerateur / denominateur\n",
    "except NameError:\n",
    "    print(\"La variable numerateur ou denominateur n'a pas été définie.\")\n",
    "except TypeError:\n",
    "    print(\"La variable numerateur ou denominateur possède un type incompatible avec la division.\")\n",
    "except ZeroDivisionError:\n",
    "    print(\"La variable denominateur est égale à 0.\")"
   ]
  },
  {
   "cell_type": "code",
   "execution_count": 10,
   "metadata": {
    "collapsed": false
   },
   "outputs": [
    {
     "name": "stdout",
     "output_type": "stream",
     "text": [
      "Voici l'erreur : name 'numerateur' is not defined\n"
     ]
    }
   ],
   "source": [
    "try:\n",
    "    resultat = numerateur / denominateur\n",
    "except NameError as exception_retournee:\n",
    "    print(\"Voici l'erreur :\", exception_retournee)"
   ]
  },
  {
   "cell_type": "code",
   "execution_count": 4,
   "metadata": {
    "collapsed": false
   },
   "outputs": [
    {
     "name": "stdout",
     "output_type": "stream",
     "text": [
      "La variable denominateur est égale à 0.\n",
      "c'est fini\n"
     ]
    }
   ],
   "source": [
    "numerateur =20\n",
    "denominateur =0\n",
    "try:\n",
    "    resultat = numerateur / denominateur\n",
    "except NameError:\n",
    "    print(\"La variable numerateur ou denominateur n'a pas été définie.\")\n",
    "except TypeError:\n",
    "    print(\"La variable numerateur ou denominateur possède un type incompatible avec la division.\")\n",
    "except ZeroDivisionError:\n",
    "    print(\"La variable denominateur est égale à 0.\")\n",
    "else:\n",
    "    print(\"Le résultat obtenu est\", resultat)\n",
    "finally:\n",
    "    print(\"c'est fini\")"
   ]
  },
  {
   "cell_type": "code",
   "execution_count": 6,
   "metadata": {
    "collapsed": false
   },
   "outputs": [],
   "source": [
    "try:\n",
    "    resultat = numerateur / denominateur\n",
    "except ZeroDivisionError:\n",
    "    pass"
   ]
  },
  {
   "cell_type": "code",
   "execution_count": 8,
   "metadata": {
    "collapsed": false
   },
   "outputs": [
    {
     "ename": "AssertionError",
     "evalue": "",
     "output_type": "error",
     "traceback": [
      "\u001b[0;31m---------------------------------------------------------------------------\u001b[0m",
      "\u001b[0;31mAssertionError\u001b[0m                            Traceback (most recent call last)",
      "\u001b[0;32m<ipython-input-8-a8feac4661a9>\u001b[0m in \u001b[0;36m<module>\u001b[0;34m()\u001b[0m\n\u001b[0;32m----> 1\u001b[0;31m \u001b[1;32massert\u001b[0m \u001b[0mnumerateur\u001b[0m\u001b[1;33m==\u001b[0m\u001b[1;36m5\u001b[0m\u001b[1;33m\u001b[0m\u001b[0m\n\u001b[0m",
      "\u001b[0;31mAssertionError\u001b[0m: "
     ]
    }
   ],
   "source": [
    "assert numerateur==5"
   ]
  },
  {
   "cell_type": "code",
   "execution_count": 1,
   "metadata": {
    "collapsed": false
   },
   "outputs": [
    {
     "name": "stdout",
     "output_type": "stream",
     "text": [
      "Saisissez une année supérieure à 0 :15\n"
     ]
    }
   ],
   "source": [
    "annee = input(\"Saisissez une année supérieure à 0 :\")\n",
    "try:\n",
    "    annee = int(annee) # Conversion de l'année\n",
    "    assert annee > 0\n",
    "except ValueError:\n",
    "    print(\"Vous n'avez pas saisi un nombre.\")\n",
    "except AssertionError:\n",
    "    print(\"L'année saisie est inférieure ou égale à 0.\")"
   ]
  },
  {
   "cell_type": "code",
   "execution_count": 1,
   "metadata": {
    "collapsed": false
   },
   "outputs": [
    {
     "name": "stdout",
     "output_type": "stream",
     "text": [
      "-15\n",
      "La valeur saisie est invalide (l'année est peut-être négative).\n"
     ]
    }
   ],
   "source": [
    "annee = input() # L'utilisateur saisit l'année\n",
    "try:\n",
    "    annee = int(annee) # On tente de convertir l'année\n",
    "    if annee<=0:\n",
    "        raise ValueError(\"l'année saisie est négative ou nulle\")\n",
    "except ValueError:\n",
    "    print(\"La valeur saisie est invalide (l'année est peut-être négative).\")"
   ]
  },
  {
   "cell_type": "code",
   "execution_count": 3,
   "metadata": {
    "collapsed": false
   },
   "outputs": [
    {
     "name": "stdout",
     "output_type": "stream",
     "text": [
      "Vous vous installez à la table de roulette avec 1000 $.\n",
      "Tapez le nombre sur lequel vous voulez miser (entre 0 et 49) : 2\n",
      "Tapez le montant de votre mise : 1\n",
      "La roulette tourne... ... et s'arrête sur le numéro 34\n",
      "Vous avez misé sur la bonne couleur. Vous obtenez 1 $\n",
      "Vous avez à présent 1001 $\n",
      "Souhaitez-vous quitter le casino (o/n) ? o\n",
      "Vous quittez le casino avec vos gains.\n"
     ]
    },
    {
     "data": {
      "text/plain": [
       "0"
      ]
     },
     "execution_count": 3,
     "metadata": {},
     "output_type": "execute_result"
    }
   ],
   "source": [
    "# Ce fichier abrite le code du ZCasino, un jeu de roulette adapté\n",
    "\n",
    "import os\n",
    "from random import randrange\n",
    "from math import ceil\n",
    "\n",
    "# Déclaration des variables de départ\n",
    "argent = 1000 # On a 1000 $ au début du jeu\n",
    "continuer_partie = True # Booléen qui est vrai tant qu'on doit\n",
    "                        # continuer la partie\n",
    "\n",
    "print(\"Vous vous installez à la table de roulette avec\", argent, \"$.\")\n",
    "\n",
    "while continuer_partie: # Tant qu'on doit continuer la partie\n",
    "    # on demande à l'utilisateur de saisir le nombre sur\n",
    "    # lequel il va miser\n",
    "    nombre_mise = -1\n",
    "    while nombre_mise < 0 or nombre_mise > 49:\n",
    "        nombre_mise = input(\"Tapez le nombre sur lequel vous voulez miser (entre 0 et 49) : \")\n",
    "        # On convertit le nombre misé\n",
    "        try:\n",
    "            nombre_mise = int(nombre_mise)\n",
    "        except ValueError:\n",
    "            print(\"Vous n'avez pas saisi de nombre\")\n",
    "            nombre_mise = -1\n",
    "            continue\n",
    "        if nombre_mise < 0:\n",
    "            print(\"Ce nombre est négatif\")\n",
    "        if nombre_mise > 49:\n",
    "            print(\"Ce nombre est supérieur à 49\")\n",
    "\n",
    "    # À présent, on sélectionne la somme à miser sur le nombre\n",
    "    mise = 0\n",
    "    while mise <= 0 or mise > argent:\n",
    "        mise = input(\"Tapez le montant de votre mise : \")\n",
    "        # On convertit la mise\n",
    "        try:\n",
    "            mise = int(mise)\n",
    "        except ValueError:\n",
    "            print(\"Vous n'avez pas saisi de nombre\")\n",
    "            mise = -1\n",
    "            continue\n",
    "        if mise <= 0:\n",
    "            print(\"La mise saisie est négative ou nulle.\")\n",
    "        if mise > argent:\n",
    "            print(\"Vous ne pouvez miser autant, vous n'avez que\", argent, \"$\")\n",
    "\n",
    "    # Le nombre misé et la mise ont été sélectionnés par\n",
    "    # l'utilisateur, on fait tourner la roulette\n",
    "    numero_gagnant = randrange(50)\n",
    "    print(\"La roulette tourne... ... et s'arrête sur le numéro\", numero_gagnant)\n",
    "\n",
    "    # On établit le gain du joueur\n",
    "    if numero_gagnant == nombre_mise:\n",
    "        print(\"Félicitations ! Vous obtenez\", mise * 3, \"$ !\")\n",
    "        argent += mise * 3\n",
    "    elif numero_gagnant % 2 == nombre_mise % 2: # ils sont de la même couleur\n",
    "        mise = ceil(mise * 0.5)\n",
    "        print(\"Vous avez misé sur la bonne couleur. Vous obtenez\", mise, \"$\")\n",
    "        argent += mise\n",
    "    else:\n",
    "        print(\"Désolé l'ami, c'est pas pour cette fois. Vous perdez votre mise.\")\n",
    "        argent -= mise\n",
    "\n",
    "    # On interrompt la partie si le joueur est ruiné\n",
    "    if argent <= 0:\n",
    "        print(\"Vous êtes ruiné ! C'est la fin de la partie.\")\n",
    "        continuer_partie = False\n",
    "    else:\n",
    "        # On affiche l'argent du joueur\n",
    "        print(\"Vous avez à présent\", argent, \"$\")\n",
    "        quitter = input(\"Souhaitez-vous quitter le casino (o/n) ? \")\n",
    "        if quitter == \"o\" or quitter == \"O\":\n",
    "            print(\"Vous quittez le casino avec vos gains.\")\n",
    "            break#continuer_partie = False\n",
    "\n",
    "# On met en pause le système (Windows)\n",
    "os.system(\"pause\")"
   ]
  },
  {
   "cell_type": "code",
   "execution_count": null,
   "metadata": {
    "collapsed": true
   },
   "outputs": [],
   "source": []
  }
 ],
 "metadata": {
  "kernelspec": {
   "display_name": "Python 3",
   "language": "python",
   "name": "python3"
  },
  "language_info": {
   "codemirror_mode": {
    "name": "ipython",
    "version": 3
   },
   "file_extension": ".py",
   "mimetype": "text/x-python",
   "name": "python",
   "nbconvert_exporter": "python",
   "pygments_lexer": "ipython3",
   "version": "3.6.0"
  }
 },
 "nbformat": 4,
 "nbformat_minor": 2
}
